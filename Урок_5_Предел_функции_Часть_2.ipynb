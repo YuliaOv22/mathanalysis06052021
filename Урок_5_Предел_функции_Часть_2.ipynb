{
  "nbformat": 4,
  "nbformat_minor": 0,
  "metadata": {
    "colab": {
      "name": "Урок 5. Предел функции. Часть 2.ipynb",
      "provenance": []
    },
    "kernelspec": {
      "name": "python3",
      "display_name": "Python 3"
    },
    "language_info": {
      "name": "python"
    }
  },
  "cells": [
    {
      "cell_type": "markdown",
      "metadata": {
        "id": "SmdURZ_OkVqQ"
      },
      "source": [
        "**__1.__ Найти производную функции:**\n",
        "\n",
        "### $y=\\frac{1}{x}+\\frac{2}{x^2}-\\frac{5}{x^3}+\\sqrt x -\\sqrt[3]x+\\frac{3}{\\sqrt x}=x^{-1}+2x^{-2}-5x^{-3}+x^{\\frac{1}{2}}-x^{\\frac{1}{3}}+3x^{-\\frac{1}{2}}$\n",
        "\n",
        "### $y'=(x^{-1}+2x^{-2}-5x^{-3}+x^{\\frac{1}{2}}-x^{\\frac{1}{3}}+3x^{-\\frac{1}{2}})'=(x^{-1})'+(2x^{-2})'-(5x^{-3})'+(x^{\\frac{1}{2}})'-(x^{\\frac{1}{3}})'+(3x^{-\\frac{1}{2}})'=-x^{-2}-4x^{-3}+15x^{-4}+\\frac{1}{2}x^{-\\frac{1}{2}}-\\frac{1}{3}x^{-\\frac{2}{3}}-\\frac{3}{2}x^{-\\frac{3}{2}}=$\n",
        "\n",
        "### $={\\color {red}{-\\frac{1}{x^2}-\\frac{4}{x^3}+\\frac{15}{x^4}+\\frac{1}{2\\sqrt x}-\\frac{1}{3\\sqrt[3]x^2}-\\frac{3}{2\\sqrt x^3}}}$"
      ]
    },
    {
      "cell_type": "markdown",
      "metadata": {
        "id": "cECfCSANkVqR"
      },
      "source": [
        "**__2.__ Найти производную функции:**\n",
        "\n",
        "### $y=x * \\sqrt {1+x^2}$\n",
        "\n",
        "### $y'=(x * \\sqrt {1+x^2})'=x'*\\sqrt {1+x^2}+x*((1+x^2)^{\\frac{1}{2}})'=\\sqrt {1+x^2}+\\frac{x(1+x^2)'}{2\\sqrt {1+x^2}}=$\n",
        "\n",
        "### $=\\sqrt {1+x^2}+\\frac{x^2}{\\sqrt {1+x^2}}=\\frac{1+x^2}{\\sqrt {1+x^2}}+\\frac{x^2}{\\sqrt {1+x^2}}={\\color {red}{\\frac{1+2x^2}{\\sqrt {1+x^2}}}}$"
      ]
    },
    {
      "cell_type": "markdown",
      "metadata": {
        "id": "DFrjdtbHkVqS"
      },
      "source": [
        "**__3.__ Найти производную функции:**\n",
        "\n",
        "### $y= \\frac{2x}{1-x^2}$\n",
        "\n",
        "### $y'= \\Bigl(\\frac{2x}{1-x^2}\\Bigl)'=\\frac{(2x)'(1-x^2)-2x(1-x^2)'}{(1-x^2)^2}=\\frac{2-2x^2+4x^2}{(1-x^2)^2}={\\color {red}{\\frac{2(1+x^2)}{(1-x^2)^2}}}$"
      ]
    },
    {
      "cell_type": "markdown",
      "metadata": {
        "id": "5la-eVLukVqT"
      },
      "source": [
        "**__4*.__ Найти производную функции:**\n",
        "\n",
        "### $y=\\sqrt{x+ \\sqrt{x+\\sqrt x}}$\n",
        "\n",
        "### $y'=(\\sqrt{x+ \\sqrt{x+\\sqrt x}})'=\\frac{(x+ \\sqrt{x+\\sqrt x})'}{2\\sqrt{x+ \\sqrt{x+\\sqrt x}}}=\\frac{1+(\\sqrt{x+\\sqrt x})'}{2\\sqrt{x+ \\sqrt{x+\\sqrt x}}}=\\frac{1+\\frac{(x+\\sqrt x)'}{2\\sqrt{x+\\sqrt x}}}{2\\sqrt{x+ \\sqrt{x+\\sqrt x}}}={\\color {red}{\\frac{1+\\frac{1+\\frac{1}{2\\sqrt x}}{2\\sqrt{x+\\sqrt x}}}{2\\sqrt{x+ \\sqrt{x+\\sqrt x}}}}}$"
      ]
    },
    {
      "cell_type": "markdown",
      "metadata": {
        "id": "kQlell_GkVqU"
      },
      "source": [
        "**__5.__ Найти производную функции:**\n",
        "\n",
        "### $y= \\ln(x+\\sqrt{x^2+1})$\n",
        "\n",
        "### $y'= (\\ln(x+\\sqrt{x^2+1}))'=\\frac{(x+\\sqrt{x^2+1})'}{x+\\sqrt{x^2+1}}=\\frac{1+\\frac{(x^2+1)'}{2\\sqrt{x^2+1}}}{x+\\sqrt{x^2+1}}=\\frac{1+\\frac{x}{\\sqrt{x^2+1}}}{x+\\sqrt{x^2+1}}={\\color {red}{\\frac{1}{\\sqrt{x^2+1}}}}$"
      ]
    },
    {
      "cell_type": "markdown",
      "metadata": {
        "id": "GEqcRUkxPKrk"
      },
      "source": [
        "**__6.__ Найти производную функции:**\n",
        "\n",
        "### $y=x * \\ln(x+\\sqrt{x^2+1})-\\sqrt{x^2+1}$\n",
        "\n",
        "### $y'=(x * \\ln(x+\\sqrt{x^2+1})-\\sqrt{x^2+1})'=(x * \\ln(x+\\sqrt{x^2+1}))'-(\\sqrt{x^2+1})'=$\n",
        "\n",
        "### $=x' * \\ln(x+\\sqrt{x^2+1})+x * (\\ln(x+\\sqrt{x^2+1}))'-\\frac{(x^2+1)'}{2\\sqrt{x^2+1}}=$\n",
        "\n",
        "### $=\\ln(x+\\sqrt{x^2+1})+\\frac{x(x+\\sqrt{x^2+1})'}{x+\\sqrt{x^2+1}}-\\frac{(x^2+1)'}{2\\sqrt{x^2+1}}=\\ln(x+\\sqrt{x^2+1})+\\frac{x\\Bigl(1+\\frac{(x^2+1)'}{2\\sqrt{x^2+1}}\\Bigl)}{x+\\sqrt{x^2+1}}-\\frac{x}{\\sqrt{x^2+1}}=$\n",
        "\n",
        "### $=\\ln(x+\\sqrt{x^2+1})+\\frac{x+\\frac{x^2}{\\sqrt{x^2+1}}}{x+\\sqrt{x^2+1}}-\\frac{x}{\\sqrt{x^2+1}}={\\color {red}{\\ln(x+\\sqrt{x^2+1})}}$"
      ]
    },
    {
      "cell_type": "markdown",
      "metadata": {
        "id": "-dDOmQg4PKrl"
      },
      "source": [
        "**__7*.__ Найти производную функции:**\n",
        "\n",
        "### $y=\\arcsin (\\sin x)$\n",
        "\n",
        "### $y'=(\\arcsin (\\sin x))'=\\frac{(\\sin x)'}{\\sqrt{1-\\sin^2x}}=\\frac{\\cos x}{\\sqrt{1-\\sin^2x}}=\\frac{\\cos x}{\\sqrt{\\cos^2x}}=\\frac{\\cos x}{|\\cos x|}={\\color {red}{\\pm1}}$"
      ]
    },
    {
      "cell_type": "markdown",
      "metadata": {
        "id": "ByOBP9mhPKrq"
      },
      "source": [
        "**__8*.__ Вычислить приближенное значение:**\n",
        "\n",
        "### $\\sin(1^0)=\\sin\\Bigl(\\frac{\\pi}{180}\\Bigr)$\n"
      ]
    },
    {
      "cell_type": "markdown",
      "metadata": {
        "id": "BgVL_q93ThLc"
      },
      "source": [
        "Для вычисления приближенного значения воспользуемся формулой через производную:\n",
        "\n",
        "### $f'(x)\\approx \\frac{f(x+\\Delta x)-f(x)}{\\Delta x}$\n",
        "\n",
        "### $f(x+\\Delta x) \\approx f(x)+f'(x) \\cdot \\Delta x$\n",
        "\n",
        "### $\\sin(1^0)=\\sin\\Bigl(\\frac{\\pi}{180}\\Bigr)=\\sin(0^0+1^0)\\approx \\sin(0^0)+\\cos(0^0)*\\frac{\\pi}{180}\\approx 0+1*\\frac{\\pi}{180}\\approx \\frac{\\pi}{180}\\approx {\\color {red}{0.017453292519943295}}$"
      ]
    },
    {
      "cell_type": "code",
      "metadata": {
        "colab": {
          "base_uri": "https://localhost:8080/"
        },
        "id": "Yb8tM8RJTMfJ",
        "outputId": "8507908f-bb9d-4e62-9171-dcc81806a6b8"
      },
      "source": [
        "import math\n",
        "\n",
        "math.pi/180"
      ],
      "execution_count": null,
      "outputs": [
        {
          "output_type": "execute_result",
          "data": {
            "text/plain": [
              "0.017453292519943295"
            ]
          },
          "metadata": {
            "tags": []
          },
          "execution_count": 5
        }
      ]
    },
    {
      "cell_type": "code",
      "metadata": {
        "colab": {
          "base_uri": "https://localhost:8080/"
        },
        "id": "iMMBcTBdmfNx",
        "outputId": "6d881876-213b-4f5e-df51-6712439ac3d0"
      },
      "source": [
        "import math\n",
        "from decimal import Decimal\n",
        "\n",
        "print(f'sin ({1}°): {Decimal(math.sin(math.radians(1))).quantize(Decimal(\"1.0000\"))}')\n",
        "print(f'sin (π/180)°: {Decimal(math.sin(math.sin(math.pi/180))).quantize(Decimal(\"1.0000\"))}')"
      ],
      "execution_count": null,
      "outputs": [
        {
          "output_type": "stream",
          "text": [
            "sin (1°): 0.0175\n",
            "sin (π/180)°: 0.0175\n"
          ],
          "name": "stdout"
        }
      ]
    },
    {
      "cell_type": "markdown",
      "metadata": {
        "id": "OIViV6yuPKrr"
      },
      "source": [
        "**__9* *.__ Написать на python алгоритм, по вычислению значений $\\sin(x)$ для $х \\in[0, 30^0]$**\n",
        "\n",
        "Для проверки подойдут данные из таблицы Брадиса"
      ]
    },
    {
      "cell_type": "code",
      "metadata": {
        "colab": {
          "base_uri": "https://localhost:8080/"
        },
        "id": "pVeAXSNAa7UX",
        "outputId": "54c62804-4461-4f7d-9197-701d9d2dd754"
      },
      "source": [
        "import math\n",
        "\n",
        "delta = math.pi / 180\n",
        "sin_values = []\n",
        "\n",
        "for x in range(0, 30, 1):\n",
        "    if math.sin(x) == 0.0:\n",
        "        sin_0 = math.sin(x)\n",
        "        sin_n = round(sin_0 + math.sqrt((1 - math.sin(sin_0)**2)) * delta, 4)\n",
        "        sin_values.extend([sin_0, sin_n])\n",
        "    else:\n",
        "        sin_n_1 = math.sin(x*sin_n) + math.sqrt((1 - math.sin(x*sin_n)**2)) * delta\n",
        "        sin_values.append(round(sin_n_1, 4))\n",
        "\n",
        "print(sin_values)"
      ],
      "execution_count": null,
      "outputs": [
        {
          "output_type": "stream",
          "text": [
            "[0.0, 0.0175, 0.0349, 0.0524, 0.0699, 0.0874, 0.1048, 0.1222, 0.1395, 0.1568, 0.1741, 0.1913, 0.2084, 0.2255, 0.2425, 0.2595, 0.2764, 0.2931, 0.3098, 0.3264, 0.3429, 0.3593, 0.3756, 0.3917, 0.4078, 0.4237, 0.4395, 0.4551, 0.4707, 0.486, 0.5012]\n"
          ],
          "name": "stdout"
        }
      ]
    },
    {
      "cell_type": "code",
      "metadata": {
        "colab": {
          "base_uri": "https://localhost:8080/"
        },
        "id": "_axUcDFRvMg0",
        "outputId": "7ff9c45f-79dc-46ac-c26f-8e25cacb919c"
      },
      "source": [
        "import math\n",
        "from decimal import Decimal\n",
        "\n",
        "for x in range(0, 31, 1):\n",
        "  print(f'sin ({x}°): {Decimal(math.sin(math.radians(x))).quantize(Decimal(\"1.0000\"))}')"
      ],
      "execution_count": null,
      "outputs": [
        {
          "output_type": "stream",
          "text": [
            "sin (0°): 0.0000\n",
            "sin (1°): 0.0175\n",
            "sin (2°): 0.0349\n",
            "sin (3°): 0.0523\n",
            "sin (4°): 0.0698\n",
            "sin (5°): 0.0872\n",
            "sin (6°): 0.1045\n",
            "sin (7°): 0.1219\n",
            "sin (8°): 0.1392\n",
            "sin (9°): 0.1564\n",
            "sin (10°): 0.1736\n",
            "sin (11°): 0.1908\n",
            "sin (12°): 0.2079\n",
            "sin (13°): 0.2250\n",
            "sin (14°): 0.2419\n",
            "sin (15°): 0.2588\n",
            "sin (16°): 0.2756\n",
            "sin (17°): 0.2924\n",
            "sin (18°): 0.3090\n",
            "sin (19°): 0.3256\n",
            "sin (20°): 0.3420\n",
            "sin (21°): 0.3584\n",
            "sin (22°): 0.3746\n",
            "sin (23°): 0.3907\n",
            "sin (24°): 0.4067\n",
            "sin (25°): 0.4226\n",
            "sin (26°): 0.4384\n",
            "sin (27°): 0.4540\n",
            "sin (28°): 0.4695\n",
            "sin (29°): 0.4848\n",
            "sin (30°): 0.5000\n"
          ],
          "name": "stdout"
        }
      ]
    },
    {
      "cell_type": "code",
      "metadata": {
        "colab": {
          "base_uri": "https://localhost:8080/"
        },
        "id": "RISl29mf-Hr5",
        "outputId": "cfcb2aa1-d340-4652-b1ae-1ab78d36b9dc"
      },
      "source": [
        "# Решение через восстановление функции (splev, splrep)\n",
        "\n",
        "import numpy as np\n",
        "from scipy.interpolate import splev, splrep\n",
        "\n",
        "n = 10000\n",
        "l = np.pi/6\n",
        "h = l/n\n",
        "x = np.arange(0, l, h)\n",
        "x = np.append(x,l)\n",
        "sin_d = np.array([0])\n",
        "cos_d = 1\n",
        "    \n",
        "while(n != 0):\n",
        "    sin_d = np.append(sin_d, sin_d[-1] + cos_d * h)\n",
        "    cos_d = np.sqrt(1 - (sin_d[-1])**2)\n",
        "    n -= 1\n",
        "    \n",
        "spl = splrep(x, sin_d)\n",
        "\n",
        "def sin(k):\n",
        "    return splev(k, spl)\n",
        "    \n",
        "alfa = 1\n",
        "print (sin(alfa * np.pi / 180))\n"
      ],
      "execution_count": 8,
      "outputs": [
        {
          "output_type": "stream",
          "text": [
            "0.017452410420326334\n"
          ],
          "name": "stdout"
        }
      ]
    }
  ]
}