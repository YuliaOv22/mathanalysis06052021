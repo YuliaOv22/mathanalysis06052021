{
  "nbformat": 4,
  "nbformat_minor": 0,
  "metadata": {
    "colab": {
      "name": "Урок 2. Множество. Последовательность. Часть 1.ipynb",
      "provenance": []
    },
    "kernelspec": {
      "name": "python3",
      "display_name": "Python 3"
    },
    "language_info": {
      "name": "python"
    }
  },
  "cells": [
    {
      "cell_type": "markdown",
      "metadata": {
        "id": "SmdURZ_OkVqQ"
      },
      "source": [
        "### **__1.__ Представьте в виде __несократимой__ рациональной дроби:**\n",
        "\n",
        "$$а)\\,\\,\\, 0.(216);$$\n",
        "$$б)\\,\\,\\, 1.0(01).$$"
      ]
    },
    {
      "cell_type": "markdown",
      "metadata": {
        "id": "YqE5XV9zLwJS"
      },
      "source": [
        "а)\n",
        "\n",
        "$a=0.(216)$\n",
        "\n",
        "$1000a=216.(216)$\n",
        "\n",
        "$1000a=216+0.(216)$\n",
        "\n",
        "$1000a=216+a$\n",
        "\n",
        "$999a=216$\n",
        "\n",
        "$a=\\frac{216}{999}=\\frac{8}{37}$\n",
        "\n",
        "${\\color{red}{0.(216)=\\frac{8}{37}}}$"
      ]
    },
    {
      "cell_type": "code",
      "metadata": {
        "colab": {
          "base_uri": "https://localhost:8080/"
        },
        "id": "aEgf512Usyn7",
        "outputId": "b7ba3421-1f96-4077-d8b8-810a9289555e"
      },
      "source": [
        "print(8/37)"
      ],
      "execution_count": null,
      "outputs": [
        {
          "output_type": "stream",
          "text": [
            "0.21621621621621623\n"
          ],
          "name": "stdout"
        }
      ]
    },
    {
      "cell_type": "markdown",
      "metadata": {
        "id": "gQvbTz53ocYF"
      },
      "source": [
        "б)\n",
        "$c=0.(01)$\n",
        "\n",
        "$100c=1.(01)$\n",
        "\n",
        "$100c=1+0.(01)$\n",
        "\n",
        "$100c=1+c$\n",
        "\n",
        "$99c=1$\n",
        "\n",
        "$c=\\frac{1}{99}$\n",
        "\n",
        "$0.(01)=\\frac{1}{99}$\n",
        "\n",
        "---\n",
        "\n",
        "$b=1.0(01)$\n",
        "\n",
        "$10b=10.(01)$\n",
        "\n",
        "$10b=10+0.(01)$\n",
        "\n",
        "$10b=10+\\frac{1}{99}$\n",
        "\n",
        "$10b=\\frac{991}{99}$\n",
        "\n",
        "$b=\\frac{991}{990}$\n",
        "\n",
        "${\\color{red}{1.0(01)=\\frac{991}{990}}}$"
      ]
    },
    {
      "cell_type": "code",
      "metadata": {
        "colab": {
          "base_uri": "https://localhost:8080/"
        },
        "id": "9XVLJtWXqAmZ",
        "outputId": "02cfe846-9039-49af-fde1-9d2f25605284"
      },
      "source": [
        "print(991/990)"
      ],
      "execution_count": null,
      "outputs": [
        {
          "output_type": "stream",
          "text": [
            "1.001010101010101\n"
          ],
          "name": "stdout"
        }
      ]
    },
    {
      "cell_type": "markdown",
      "metadata": {
        "id": "sL2R25ZyLwJs"
      },
      "source": [
        "### **__2*.__ Пусть $x =\\frac{2}{21}$. Известно, что для некоторого натурального $k$ число $x$ записывается в $k$ - ичной системе счисления как $0.(13)_k = 0, 131313..._k$. Найдите $k$.**\n"
      ]
    },
    {
      "cell_type": "markdown",
      "metadata": {
        "id": "3_B_11pg2CGh"
      },
      "source": [
        "$x =(\\frac{2}{21})_{10}$ \n",
        "\n",
        "$x =0.(13)_k$ \n",
        "\n",
        "$k^2x = 13.(13)_k$\n",
        "\n",
        "$k^2x = 13_k + 0.(13)_k$\n",
        "\n",
        "$k^2x = 13_k + x$\n",
        "\n",
        "$(k^2 - 1)x = 13_k$\n",
        "\n",
        "$x = \\frac{13_k}{k^2 - 1}$\n",
        "\n",
        "$\\frac{2}{21} = \\frac{13_k}{k^2 - 1}$\n",
        "\n",
        "$\\frac{2}{21} = \\frac{k + 3}{k^2 - 1}$\n",
        "\n",
        "$2k^2 - 21k - 65 = 0$"
      ]
    },
    {
      "cell_type": "markdown",
      "metadata": {
        "id": "xUWfkxztIriK"
      },
      "source": [
        "$2k^2 - 21k - 65 = 0$\n",
        "\n",
        "$x_1 = \\frac{-(-21) + \\sqrt[2]{(-21)^2 - 4*2*(-65)}}{2*2} = \\frac{21 + \\sqrt[2]{441 + 520}}{4} = \\frac{21 + \\sqrt[2]{961}}{4} = \\frac{21 + 31}{4} = 13$\n",
        "\n",
        "$x_2 = \\frac{-(-21) - \\sqrt[2]{(-21)^2 - 4*2*(-65)}}{2*2} = \\frac{21 - \\sqrt[2]{441 + 520}}{4} = \\frac{21 - \\sqrt[2]{961}}{4} = \\frac{21 - 31}{4} = -2.5$"
      ]
    },
    {
      "cell_type": "markdown",
      "metadata": {
        "id": "IQbp1BKpLOR2"
      },
      "source": [
        "${\\color{red}{k = 13}}$"
      ]
    },
    {
      "cell_type": "markdown",
      "metadata": {
        "id": "Qd9FUA2kLwJt"
      },
      "source": [
        "### **__3.__ Проверьте любым способ, является ли данные логические формулы тавтологией:**\n",
        "\n",
        "$$a)\\,\\,\\, (A \\vee B) \\rightarrow (B \\vee\\overline A)$$\n",
        "$$б)\\,\\,\\, A \\rightarrow (A \\vee (\\overline B \\wedge A))$$"
      ]
    },
    {
      "cell_type": "markdown",
      "metadata": {
        "id": "YTDTV20ttbAh"
      },
      "source": [
        "а) Логическая формула **НЕ** является тавтологией.\n",
        "\n",
        "$(A \\vee B) \\rightarrow (B \\vee\\overline A)$\n",
        "\n",
        "\n",
        "> \n",
        "\n",
        "\n",
        "\n",
        "<table>\n",
        "<thead>\n",
        "<tr><th>$A$</th><th>$B$</th><th>$\\overline A$</th><th>$(A\\vee B)$</th>\n",
        "<th>$(B\\vee \\overline A)$</th><th>$(A \\vee B) \\rightarrow (B \\vee\\overline A)$</th></tr>\n",
        "</thead>\n",
        "<tbody>\n",
        "    <tr><td>$0$</td><td>$0$</td><td>$1$</td><td>$0$</td><td>$1$</td><td>$1$</td></tr>\n",
        "    <tr><td>$0$</td><td>$1$</td><td>$1$</td><td>$1$</td><td>$1$</td><td>$1$</td></tr>\n",
        "    <tr><td>$1$</td><td>$0$</td><td>$0$</td><td>$1$</td><td>$0$</td><td>$0$</td></tr>\n",
        "    <tr><td>$1$</td><td>$1$</td><td>$0$</td><td>$1$</td><td>$1$</td><td>$1$</td></tr>\n",
        "    \n",
        "</tbody>\n",
        "</table>"
      ]
    },
    {
      "cell_type": "markdown",
      "metadata": {
        "id": "wnz7xqziwk6w"
      },
      "source": [
        "б) Логическая формула **является** тавтологией.\n",
        "\n",
        "$A \\rightarrow (A \\vee (\\overline B \\wedge A))$\n",
        "\n",
        "\n",
        "> \n",
        "\n",
        "\n",
        "\n",
        "<table>\n",
        "<thead>\n",
        "<tr><th>$A$</th><th>$B$</th><th>$\\overline B$</th><th>$(\\overline B \\wedge A)$</th>\n",
        "<th>$(A \\vee (\\overline B \\wedge A))$</th><th>$A \\rightarrow (A \\vee (\\overline B \\wedge A))$</th></tr>\n",
        "</thead>\n",
        "<tbody>\n",
        "    <tr><td>$0$</td><td>$0$</td><td>$1$</td><td>$0$</td><td>$0$</td><td>$1$</td></tr>\n",
        "    <tr><td>$0$</td><td>$1$</td><td>$0$</td><td>$0$</td><td>$0$</td><td>$1$</td></tr>\n",
        "    <tr><td>$1$</td><td>$0$</td><td>$1$</td><td>$1$</td><td>$1$</td><td>$1$</td></tr>\n",
        "    <tr><td>$1$</td><td>$1$</td><td>$0$</td><td>$0$</td><td>$1$</td><td>$1$</td></tr>\n",
        "    \n",
        "</tbody>\n",
        "</table>"
      ]
    },
    {
      "cell_type": "markdown",
      "metadata": {
        "id": "3oBZ-xlqLwJu"
      },
      "source": [
        "### **__4.__ Сформулируйте словесно высказывания:**\n",
        "$$a)\\,\\,\\, (\\overline A \\vee B) \\rightarrow \\overline C$$\n",
        "$$б)\\,\\,\\, C \\rightarrow (A \\vee \\overline B)$$\n",
        "\n",
        "- $A:\\,\\,\\,$ сегодня светит солнце; \n",
        "- $B:\\,\\,\\,$ сегодня сыро; \n",
        "- $C:\\,\\,\\,$ я поеду на дачу. "
      ]
    },
    {
      "cell_type": "markdown",
      "metadata": {
        "id": "7YEQICgyy2r3"
      },
      "source": [
        "а) Если сегодня не будет светить солнце или будет сыро, то я не поеду на дачу.\n",
        "\n",
        "б) Если я поеду на дачу, то значит сегодня светит солнце и не сыро.\n"
      ]
    },
    {
      "cell_type": "markdown",
      "metadata": {
        "id": "KgkAUcovLwJv"
      },
      "source": [
        "### **__5.__  Пользуясь правилом построения противоположного высказывания, запишите утверждения, противоположные следующим:**\n",
        "\n",
        "a) На любом курсе каждого факультета есть студенты, сдающие все экзамены на «отлично».\n",
        "\n",
        "б) В любом самолете на рейсе Вашингтон-Москва присутствует хотя бы один сотрудник силовых органов, в каждой пуговице одежды которого вмонтирован микрофон."
      ]
    },
    {
      "cell_type": "markdown",
      "metadata": {
        "id": "LBCW97Hezv6d"
      },
      "source": [
        "а) \n",
        "\n",
        "На $\\forall$ курсе $\\forall$ факультета $\\exists$ студенты, сдающие $\\forall$ экзамены на «отлично».\n",
        "\n",
        "На $\\exists$ курсе $\\exists$ факультета $\\forall$ студенты, не сдающие $\\exists$ экзамены на «отлично».\n",
        "\n",
        "**Есть курс определенного факультета, где любые студенты не сдают определенные экзамены на «отлично».**\n",
        "\n",
        "б) \n",
        "\n",
        "В $\\forall$ самолете на рейсе Вашингтон-Москва $\\exists$ сотрудник силовых органов, в $\\forall$ пуговице одежды которого вмонтирован микрофон.\n",
        "\n",
        "В $\\exists$ самолете на рейсе Вашингтон-Москва $\\forall$ сотрудник силовых органов, в $\\exists$ пуговице одежды которого не вмонтирован микрофон.\n",
        "\n",
        "**Есть самолет на рейсе Вашингтон-Москва, на котором у любого сотрудника силовых органов есть пуговица на одежде, в которую не вмонтирован микрофон.**"
      ]
    },
    {
      "cell_type": "markdown",
      "metadata": {
        "id": "ydKtcmhvLwJw"
      },
      "source": [
        "### **__6*.__ Прочитайте высказывания, установите их истинность и постройте противоположное высказывание:**\n",
        "\n",
        "$$a)\\,\\,\\, \\forall x\\in\\mathbb{R}\\,\\,\\,\\exists X\\in\\mathbb{R}:\\,\\,\\, X>x;$$\n",
        "$$б)\\,\\,\\, \\forall y\\in\\Bigl[0; \\frac{\\pi}{2}\\Bigr]\\,\\,\\,\\exists \\varepsilon>0:\\,\\,\\, \\sin y<\\sin(y+\\varepsilon);$$\n",
        "$$в)\\,\\,\\, \\forall y\\in\\Bigl[0; \\pi\\Bigr)\\,\\,\\,\\exists \\varepsilon>0:\\,\\,\\, \\cos y>\\cos(y+\\varepsilon).$$"
      ]
    },
    {
      "cell_type": "markdown",
      "metadata": {
        "id": "RyQfqTu01zR2"
      },
      "source": [
        "a) \n",
        "\n",
        "$\\forall x\\in\\mathbb{R}\\,\\,\\,\\exists X\\in\\mathbb{R}:\\,\\,\\, X>x$\n",
        "\n",
        "Для любого элемента $x$, принадлежащего множеству вещественных чисел $\\mathbb{R}$ существует элемент $X$, принадлежащий множеству вещественных чисел $\\mathbb{R}$, такой что, $X$ больше $x$. \n",
        "\n",
        "**Доказательство:**\n",
        "\n",
        "Так как элемент $x$ и элемент $X$ принадлежат множеству $\\mathbb{R}$, которое является бесконечным, всегда можно найти число $X$, которое будет больше числа $x$. Предположим, что $X$ больше $x$ на $1$, тогда получится уравнение вида: $X=x+1$. Например, если $x=100$, тогда $X=100+1=101$, при этом $X>x$. Таким образом утверждение является **истинным**.\n",
        "\n",
        "**Противоположное высказывание:**\n",
        "\n",
        "$\\exists x\\in\\mathbb{R}\\,\\,\\,\\forall X\\in\\mathbb{R}:\\,\\,\\, X\\leq x$"
      ]
    },
    {
      "cell_type": "markdown",
      "metadata": {
        "id": "OkjtXzql5Glk"
      },
      "source": [
        "б) \n",
        "\n",
        "$\\forall y\\in\\Bigl[0; \\frac{\\pi}{2}\\Bigr]\\,\\,\\,\\exists \\varepsilon>0:\\,\\,\\, \\sin y<\\sin(y+\\varepsilon)$\n",
        "\n",
        "Для любого элемента $y$, принадлежащего отрезку от $0$ включительно до  $\\frac{\\pi}{2}$ включительно существует элемент $\\varepsilon$ больше $0$, такой что, $\\sin y$ меньше $\\sin(y+\\varepsilon)$. \n",
        "\n",
        "**Доказательство:**\n",
        "\n",
        "Значение функции $sin$ при любых переменных лежит в пределах от $-1$ до $1$. Предположим, что $y=\\frac{\\pi}{2}$, тогда $sin(y)=sin(\\frac{\\pi}{2})=1$. Таким образом, какое бы число $\\varepsilon > 0$ мы не прибавили к $y$ значение $sin(y+\\varepsilon)$ всегда будет меньше $1$. К примеру, возьмем $\\varepsilon=1$, тогда $sin(y+\\varepsilon)=sin(\\frac{\\pi}{2}+1)\\sim0.54$. Как видно, $1$ больше $0.54$. Таким образом утверждение является **ложным**.\n",
        "\n",
        "**Противоположное высказывание:**\n",
        "\n",
        "$\\exists y\\in\\Bigl[0; \\frac{\\pi}{2}\\Bigr]\\,\\,\\,\\forall \\varepsilon>0:\\,\\,\\, \\sin y\\geq\\sin(y+\\varepsilon)$"
      ]
    },
    {
      "cell_type": "code",
      "metadata": {
        "colab": {
          "base_uri": "https://localhost:8080/"
        },
        "id": "q4wOem-H7hth",
        "outputId": "0e32c02f-34ee-4445-cdb0-bbe0723571a9"
      },
      "source": [
        "import numpy\n",
        "\n",
        "y = numpy.pi/2\n",
        "print(f'sin(y) = {numpy.sin(y)}')\n",
        "e = 1\n",
        "print(f'sin(y + e) = {numpy.sin(y + e)}\\n')\n",
        "print(numpy.sin(y) < numpy.sin(y + e))"
      ],
      "execution_count": null,
      "outputs": [
        {
          "output_type": "stream",
          "text": [
            "sin(y) = 1.0\n",
            "sin(y + e) = 0.5403023058681398\n",
            "\n",
            "False\n"
          ],
          "name": "stdout"
        }
      ]
    },
    {
      "cell_type": "markdown",
      "metadata": {
        "id": "f3IIKRrH7MLc"
      },
      "source": [
        "в) \n",
        "\n",
        "$\\forall y\\in\\Bigl[0; \\pi\\Bigr)\\,\\,\\,\\exists \\varepsilon>0:\\,\\,\\, \\cos y>\\cos(y+\\varepsilon)$\n",
        "\n",
        "Для любого элемента $y$, принадлежащего отрезку от $0$ включительно до  $\\pi$ не включительно существует элемент $\\varepsilon$ больше $0$, такой что, $\\cos y$ больше $\\cos(y+\\varepsilon)$. \n",
        "\n",
        "**Доказательство:**\n",
        "\n",
        "Значение функции $cos$ при любых переменных лежит в пределах от $-1$ до $1$. Предположим, что $y=3$ (близкое значение к $\\pi$), тогда $cos(y)=cos(3)\\sim(-0.989)$. Так как значение $cos(y)\\neq-1$, значит существует такое число $\\varepsilon>0$, при котором $\\cos y>\\cos(y+\\varepsilon)$. Возьмем $\\varepsilon=0.283$, тогда $cos(y+\\varepsilon)=cos(3+0.283)\\sim(-0.990)$. Как видно, $(-0.989)$ больше $(-0.990)$. Таким образом утверждение является **инстинным**.\n",
        "\n",
        "**Противоположное высказывание:**\n",
        "\n",
        "$\\exists y\\in\\Bigl[0; \\pi\\Bigr)\\,\\,\\,\\forall \\varepsilon>0:\\,\\,\\, \\cos y\\leq\\cos(y+\\varepsilon)$"
      ]
    },
    {
      "cell_type": "code",
      "metadata": {
        "colab": {
          "base_uri": "https://localhost:8080/"
        },
        "id": "r7SnGtM8MALE",
        "outputId": "fde825c5-8bc0-4c04-baf5-9abf0e5a1628"
      },
      "source": [
        "import numpy\n",
        "\n",
        "y = 3\n",
        "e = 0.283\n",
        "print(f'Значения e: {e_list}\\n')\n",
        "print(f'cos(y) = {numpy.cos(y)}')\n",
        "print(f'cos(y + e) = {numpy.cos(y + e)}\\n')\n",
        "print(numpy.cos(y) > numpy.cos(y + e))\n",
        "\n",
        "# Найдем значения e, при котором выражение является истинным, если y=3\n",
        "e_list = []\n",
        "for e in numpy.arange(0, 1, 0.001):\n",
        "  if numpy.cos(y) > numpy.cos(y + e):\n",
        "    e_list.append(round(e, 3))"
      ],
      "execution_count": null,
      "outputs": [
        {
          "output_type": "stream",
          "text": [
            "Значения e: [0.001, 0.002, 0.003]\n",
            "\n",
            "cos(y) = -0.9899924966004454\n",
            "cos(y + e) = -0.9900186301534198\n",
            "\n",
            "True\n"
          ],
          "name": "stdout"
        }
      ]
    }
  ]
}