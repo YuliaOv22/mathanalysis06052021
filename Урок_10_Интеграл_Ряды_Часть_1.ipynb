{
  "nbformat": 4,
  "nbformat_minor": 0,
  "metadata": {
    "colab": {
      "name": "Урок 10. Интеграл. Ряды. Часть 1.ipynb",
      "provenance": []
    },
    "kernelspec": {
      "name": "python3",
      "display_name": "Python 3"
    },
    "language_info": {
      "name": "python"
    }
  },
  "cells": [
    {
      "cell_type": "markdown",
      "metadata": {
        "id": "SmdURZ_OkVqQ"
      },
      "source": [
        "**__1.__ Исследовать сходимость ряда.**\n",
        "\n",
        "\n",
        "### $\\frac{1}{2\\sqrt2}+\\frac{1}{3\\sqrt3}+\\,...\\,+\\frac{1}{(n+1)\\sqrt{n+1}}+\\,...\\,=\\sum\\limits_{n=1}^{+\\infty}\\frac{1}{(n+1)\\sqrt{n+1}}$\n",
        "\n",
        "(*) Двумя различными признаками."
      ]
    },
    {
      "cell_type": "markdown",
      "metadata": {
        "id": "MVGIUXU4Ly-p"
      },
      "source": [
        "Проверим **необходимое условие** сходимости ряда:\n",
        "\n",
        "$$\\lim_{n\\to +\\infty}a_{n}=0$$\n",
        "\n",
        "$$\\lim_{n\\to +\\infty} \\frac{1}{(n+1)\\sqrt{n+1}}=\\frac{1}{+\\infty}=0$$\n",
        "\n",
        "Проверим **достаточное условие** сходимости ряда. Ряд является знакопостоянным.\n",
        "\n",
        "*   Воспользуемся вторым признаком сравнения.\n",
        "\n",
        "$\\frac{1}{2\\sqrt2}+\\frac{1}{3\\sqrt3}+\\,...\\,+\\frac{1}{(n+1)\\sqrt{n+1}}+\\,...\\,\\,\\,\\,\\,\\,\\sim\\,\\,\\,\\,\\,\\,O\\Bigr(\\frac{1}{n^{\\frac{3}{2}}}\\Bigl)$\n",
        "\n",
        "Так как степень $p>1$, то значит ряд сходится.\n",
        "\n",
        "*   Воспользуемся признаком д’Аламбера.\n",
        "\n",
        "Найдем предел:\n",
        "\n",
        "$$\\lim_{n\\to +\\infty}\\frac{a_{n+1}}{a_{n}}=\\lim_{n\\to +\\infty}\\frac{1}{(n+1+1)\\sqrt{n+1+1}}:\\frac{1}{(n+1)\\sqrt{n+1}}=\\lim_{n\\to +\\infty}\\frac{(n+1)\\sqrt{n+1}}{(n+2)\\sqrt{n+2}}=1$$\n",
        "\n",
        "Так как $q=1$, то признак не работает для данной суммы.\n",
        "\n",
        "*   Воспользуемся интегральным признаком Коши.\n",
        "\n",
        "Посчитаем несобственный интеграл:\n",
        "\n",
        "$\\int\\limits_{1}^{+\\infty}\\frac{dx}{(x+1)\\sqrt{x+1}} = \\sqrt{2}$\n",
        "\n",
        "Мы нашли сумму интеграла, следовательно ${\\color {red}{ряд\\,сходится}}$.\n"
      ]
    },
    {
      "cell_type": "code",
      "metadata": {
        "colab": {
          "base_uri": "https://localhost:8080/",
          "height": 60
        },
        "id": "GzLgnbEwSeIv",
        "outputId": "1458b8e4-bad6-4d8f-edd2-d6e3e4c911a6"
      },
      "source": [
        "from sympy import *\n",
        "init_printing()\n",
        "\n",
        "x = Symbol('x')\n",
        "f = 1/((x+1)*sqrt(x+1))\n",
        "f"
      ],
      "execution_count": null,
      "outputs": [
        {
          "output_type": "execute_result",
          "data": {
            "image/png": "[encoded data removed]",
            "text/latex": "$\\displaystyle \\frac{1}{\\left(x + 1\\right)^{\\frac{3}{2}}}$",
            "text/plain": [
              "    1     \n",
              "──────────\n",
              "       3/2\n",
              "(x + 1)   "
            ]
          },
          "metadata": {
            "tags": []
          },
          "execution_count": 15
        }
      ]
    },
    {
      "cell_type": "code",
      "metadata": {
        "colab": {
          "base_uri": "https://localhost:8080/",
          "height": 38
        },
        "id": "VV9-cOTfSgQK",
        "outputId": "3d1add1f-a960-4b98-c195-861e366b7cd6"
      },
      "source": [
        "integrate(f,(x, 1, +oo))"
      ],
      "execution_count": null,
      "outputs": [
        {
          "output_type": "execute_result",
          "data": {
            "image/png": "[encoded data removed]",
            "text/latex": "$\\displaystyle \\sqrt{2}$",
            "text/plain": [
              "√2"
            ]
          },
          "metadata": {
            "tags": []
          },
          "execution_count": 12
        }
      ]
    },
    {
      "cell_type": "code",
      "metadata": {
        "colab": {
          "base_uri": "https://localhost:8080/",
          "height": 38
        },
        "id": "lAv_Z9yNS3Xl",
        "outputId": "7a9f4e14-cd0d-401c-e488-6f1b5df9c511"
      },
      "source": [
        "from scipy import integrate\n",
        "from math import *\n",
        "\n",
        "f = lambda x : 1/((x+1)*sqrt(x+1))\n",
        "integrate.quad(f, 1, inf)"
      ],
      "execution_count": null,
      "outputs": [
        {
          "output_type": "execute_result",
          "data": {
            "image/png": "[encoded data removed]",
            "text/latex": "$\\displaystyle \\left( 1.41421356237328, \\  9.03175823019353 \\cdot 10^{-9}\\right)$",
            "text/plain": [
              "(1.4142135623732788, 9.031758230193532e-09)"
            ]
          },
          "metadata": {
            "tags": []
          },
          "execution_count": 13
        }
      ]
    },
    {
      "cell_type": "markdown",
      "metadata": {
        "id": "cECfCSANkVqR"
      },
      "source": [
        "**__2.__ Исследовать сходимость ряда**\n",
        "\n",
        "### $\\frac{1000}{1!}+\\frac{1000^2}{2!}+\\,...\\,+\\frac{1000^n}{n!}+\\,...\\,=\\sum\\limits_{n=1}^{+\\infty}\\frac{1000^n}{n!}$"
      ]
    },
    {
      "cell_type": "markdown",
      "metadata": {
        "id": "szt-ErmpVDRp"
      },
      "source": [
        "Проверим **необходимое условие** сходимости ряда:\n",
        "\n",
        "$$\\lim_{n\\to +\\infty} \\frac{1000^n}{n!}=\\frac{+\\infty}{+\\infty}=0$$"
      ]
    },
    {
      "cell_type": "code",
      "metadata": {
        "colab": {
          "base_uri": "https://localhost:8080/",
          "height": 51
        },
        "id": "Oyz970vOViq4",
        "outputId": "b197d172-b389-4a8d-b349-21de5bf9b7a1"
      },
      "source": [
        "from sympy import *\n",
        "init_printing()\n",
        "\n",
        "x = Symbol('x')\n",
        "f = 1000**x/factorial(x)\n",
        "f"
      ],
      "execution_count": null,
      "outputs": [
        {
          "output_type": "execute_result",
          "data": {
            "image/png": "[encoded data removed]",
            "text/latex": "$\\displaystyle \\frac{1000^{x}}{x!}$",
            "text/plain": [
              "    x\n",
              "1000 \n",
              "─────\n",
              "  x! "
            ]
          },
          "metadata": {
            "tags": []
          },
          "execution_count": 18
        }
      ]
    },
    {
      "cell_type": "code",
      "metadata": {
        "colab": {
          "base_uri": "https://localhost:8080/",
          "height": 37
        },
        "id": "qeERUkKuWL1d",
        "outputId": "d1fb7b14-1ea1-4cc5-8bf0-88ee866b8eb6"
      },
      "source": [
        "limit(f, x, +oo)"
      ],
      "execution_count": null,
      "outputs": [
        {
          "output_type": "execute_result",
          "data": {
            "image/png": "[encoded data removed]",
            "text/latex": "$\\displaystyle 0$",
            "text/plain": [
              "0"
            ]
          },
          "metadata": {
            "tags": []
          },
          "execution_count": 19
        }
      ]
    },
    {
      "cell_type": "markdown",
      "metadata": {
        "id": "axmOT_92ZVDc"
      },
      "source": [
        "Проверим **достаточное условие** сходимости ряда. Ряд является знакопостоянным.\n",
        "\n",
        "Воспользуемся признаком д’Аламбера.\n",
        "\n",
        "Найдем предел:\n",
        "\n",
        "$$\\lim_{n\\to +\\infty}\\frac{a_{n+1}}{a_{n}}=\\lim_{n\\to +\\infty}\\frac{1000^{n+1}}{(n+1)!}:\\frac{1000^n}{n!}=\\frac{n!*1000^{n+1}}{(n+1)!*1000^n}=\\frac{n!*1000^{n}*1000}{n!*(n+1)*1000^n}=\\frac{1000}{n+1}=0$$\n",
        "\n",
        "Так как $q<1$, то следовательно ${\\color {red}{ряд\\,сходится}}$."
      ]
    },
    {
      "cell_type": "code",
      "metadata": {
        "colab": {
          "base_uri": "https://localhost:8080/",
          "height": 53
        },
        "id": "mzNvIRsNb-aL",
        "outputId": "7525e3e6-1bde-4910-cb44-44863924ed86"
      },
      "source": [
        "from sympy import *\n",
        "init_printing()\n",
        "\n",
        "x = Symbol('x')\n",
        "f = 1000/(x+1)\n",
        "f"
      ],
      "execution_count": null,
      "outputs": [
        {
          "output_type": "execute_result",
          "data": {
            "image/png": "[encoded data removed]",
            "text/latex": "$\\displaystyle \\frac{1000}{x + 1}$",
            "text/plain": [
              " 1000\n",
              "─────\n",
              "x + 1"
            ]
          },
          "metadata": {
            "tags": []
          },
          "execution_count": 20
        }
      ]
    },
    {
      "cell_type": "code",
      "metadata": {
        "colab": {
          "base_uri": "https://localhost:8080/",
          "height": 37
        },
        "id": "mrqWwuhFcDR_",
        "outputId": "e330c0fc-557f-4ea2-fe16-58f3507afa36"
      },
      "source": [
        "limit(f, x, +oo)"
      ],
      "execution_count": null,
      "outputs": [
        {
          "output_type": "execute_result",
          "data": {
            "image/png": "[encoded data removed]",
            "text/latex": "$\\displaystyle 0$",
            "text/plain": [
              "0"
            ]
          },
          "metadata": {
            "tags": []
          },
          "execution_count": 21
        }
      ]
    },
    {
      "cell_type": "markdown",
      "metadata": {
        "id": "DFrjdtbHkVqS"
      },
      "source": [
        "**__3*.__ Исследовать сходимость ряда**\n",
        "\n",
        "### $\\frac{2\\cdot1!}{1}+\\frac{2^2\\cdot2!}{2^2}+\\,...\\,+\\frac{2^n\\cdot n!}{n^n}+\\,...\\,=\\sum\\limits_{n=1}^{+\\infty}\\frac{2^n\\cdot n!}{n^n}$"
      ]
    },
    {
      "cell_type": "markdown",
      "metadata": {
        "id": "9c1zaMWqd-r6"
      },
      "source": [
        "Проверим **необходимое условие** сходимости ряда:\n",
        "\n",
        "$$\\lim_{n\\to +\\infty} \\frac{2^n* n!}{n^n}=\\frac{+\\infty}{+\\infty}=0$$"
      ]
    },
    {
      "cell_type": "code",
      "metadata": {
        "colab": {
          "base_uri": "https://localhost:8080/",
          "height": 38
        },
        "id": "mdeNL1eYeIx9",
        "outputId": "7c4e4cb5-d6bf-41e8-8efd-be65f825252d"
      },
      "source": [
        "from sympy import *\n",
        "init_printing()\n",
        "\n",
        "x = Symbol('x')\n",
        "f = 2**x*factorial(x)/x**x\n",
        "f"
      ],
      "execution_count": null,
      "outputs": [
        {
          "output_type": "execute_result",
          "data": {
            "image/png": "[encoded data removed]",
            "text/latex": "$\\displaystyle 2^{x} x^{- x} x!$",
            "text/plain": [
              " x  -x   \n",
              "2 ⋅x  ⋅x!"
            ]
          },
          "metadata": {
            "tags": []
          },
          "execution_count": 22
        }
      ]
    },
    {
      "cell_type": "code",
      "metadata": {
        "colab": {
          "base_uri": "https://localhost:8080/",
          "height": 37
        },
        "id": "J1ilf-_MeJmc",
        "outputId": "f4cc0ae4-6713-4092-b2be-6e166b232cdd"
      },
      "source": [
        "limit(f, x, +oo)"
      ],
      "execution_count": null,
      "outputs": [
        {
          "output_type": "execute_result",
          "data": {
            "image/png": "[encoded data removed]",
            "text/latex": "$\\displaystyle 0$",
            "text/plain": [
              "0"
            ]
          },
          "metadata": {
            "tags": []
          },
          "execution_count": 23
        }
      ]
    },
    {
      "cell_type": "markdown",
      "metadata": {
        "id": "DpqRiei1ewTz"
      },
      "source": [
        "Проверим **достаточное условие** сходимости ряда. Ряд является знакопостоянным.\n",
        "\n",
        "Воспользуемся признаком д’Аламбера.\n",
        "\n",
        "Найдем предел:\n",
        "\n",
        "$$\\lim_{n\\to +\\infty}\\frac{a_{n+1}}{a_{n}}=\\lim_{n\\to +\\infty}\\frac{2^{n+1}* (n+1)!}{(n+1)^{n+1}}:\\frac{2^n* n!}{n^n}=\\frac{2^{n+1}* (n+1)!*n^n}{(n+1)^{n+1}*2^n* n!}=\\frac{2^{n}*2* n!*(n+1)*n^n}{(n+1)^{n}*(n+1)*2^n* n!}=\\frac{2n^n}{(n+1)^{n}}=\\frac{2}{e} \\approx 0.735758882342885 $$\n",
        "\n",
        "Так как $q<1$, то следовательно ${\\color {red}{ряд\\,сходится}}$."
      ]
    },
    {
      "cell_type": "code",
      "metadata": {
        "colab": {
          "base_uri": "https://localhost:8080/",
          "height": 39
        },
        "id": "MXZ2ayXQqlzL",
        "outputId": "3632d7e1-a3d7-4142-a79b-50177a68e0fa"
      },
      "source": [
        "from sympy import *\n",
        "init_printing()\n",
        "\n",
        "x = Symbol('x')\n",
        "f = 2*x**x/(x+1)**x\n",
        "f"
      ],
      "execution_count": null,
      "outputs": [
        {
          "output_type": "execute_result",
          "data": {
            "image/png": "[encoded data removed]",
            "text/latex": "$\\displaystyle 2 x^{x} \\left(x + 1\\right)^{- x}$",
            "text/plain": [
              "   x        -x\n",
              "2⋅x ⋅(x + 1)  "
            ]
          },
          "metadata": {
            "tags": []
          },
          "execution_count": 48
        }
      ]
    },
    {
      "cell_type": "code",
      "metadata": {
        "colab": {
          "base_uri": "https://localhost:8080/",
          "height": 51
        },
        "id": "YGWLNgCLqnAr",
        "outputId": "dea01cf7-0f24-45c0-f5db-248c6c7bf13c"
      },
      "source": [
        "limit(f, x, +oo)"
      ],
      "execution_count": null,
      "outputs": [
        {
          "output_type": "execute_result",
          "data": {
            "image/png": "[encoded data removed]",
            "text/latex": "$\\displaystyle \\frac{2}{e}$",
            "text/plain": [
              "   -1\n",
              "2⋅ℯ  "
            ]
          },
          "metadata": {
            "tags": []
          },
          "execution_count": 49
        }
      ]
    },
    {
      "cell_type": "code",
      "metadata": {
        "colab": {
          "base_uri": "https://localhost:8080/",
          "height": 37
        },
        "id": "yJaZ_JoIr51_",
        "outputId": "7a534d48-e167-41f4-8b9b-54ea6beef04f"
      },
      "source": [
        "2/e"
      ],
      "execution_count": null,
      "outputs": [
        {
          "output_type": "execute_result",
          "data": {
            "image/png": "[encoded data removed]",
            "text/latex": "$\\displaystyle 0.735758882342885$",
            "text/plain": [
              "0.7357588823428847"
            ]
          },
          "metadata": {
            "tags": []
          },
          "execution_count": 31
        }
      ]
    },
    {
      "cell_type": "markdown",
      "metadata": {
        "id": "CgER2MNeDZen"
      },
      "source": [
        "**__4*.__ Исследовать сходимость ряда**\n",
        "\n",
        "### $\\frac{3\\cdot1!}{1}+\\frac{3^2\\cdot2!}{2^2}+\\,...\\,+\\frac{3^n\\cdot n!}{n^n}+\\,...\\,=\\sum\\limits_{n=1}^{+\\infty}\\frac{3^n\\cdot n!}{n^n}$"
      ]
    },
    {
      "cell_type": "markdown",
      "metadata": {
        "id": "LYVPyWaDvcmU"
      },
      "source": [
        "Проверим **необходимое условие** сходимости ряда:\n",
        "\n",
        "$$\\lim_{n\\to +\\infty} \\frac{3^n* n!}{n^n}=\\frac{+\\infty}{+\\infty}=\\infty$$\n",
        "\n",
        "Так как необходимое условие для сходимости ряда не выполняется, следовательно ${\\color {red}{ряд\\,расходится}}$. "
      ]
    },
    {
      "cell_type": "code",
      "metadata": {
        "colab": {
          "base_uri": "https://localhost:8080/",
          "height": 38
        },
        "id": "DnGuSfhHvhTX",
        "outputId": "edd712a9-d48b-4fc4-d600-774c33539088"
      },
      "source": [
        "from sympy import *\n",
        "init_printing()\n",
        "\n",
        "x = Symbol('x')\n",
        "f = 3**x*factorial(x)/x**x\n",
        "f"
      ],
      "execution_count": null,
      "outputs": [
        {
          "output_type": "execute_result",
          "data": {
            "image/png": "[encoded data removed]",
            "text/latex": "$\\displaystyle 3^{x} x^{- x} x!$",
            "text/plain": [
              " x  -x   \n",
              "3 ⋅x  ⋅x!"
            ]
          },
          "metadata": {
            "tags": []
          },
          "execution_count": 32
        }
      ]
    },
    {
      "cell_type": "code",
      "metadata": {
        "colab": {
          "base_uri": "https://localhost:8080/",
          "height": 37
        },
        "id": "qMl-WwhnvlUz",
        "outputId": "73bc8f78-66e4-4b63-8951-5525256a9a3b"
      },
      "source": [
        "limit(f, x, +oo)"
      ],
      "execution_count": null,
      "outputs": [
        {
          "output_type": "execute_result",
          "data": {
            "image/png": "[encoded data removed]",
            "text/latex": "$\\displaystyle \\infty$",
            "text/plain": [
              "∞"
            ]
          },
          "metadata": {
            "tags": []
          },
          "execution_count": 33
        }
      ]
    },
    {
      "cell_type": "markdown",
      "metadata": {
        "id": "QBKYfIcgDZeo"
      },
      "source": [
        "**__5*.__ Исследовать сходимость ряда**\n",
        "\n",
        "### $-\\frac{\\sqrt1}{2}+\\frac{\\sqrt2}{3}-\\,...\\,+\\frac{(-1)^n\\sqrt n}{n+1}+\\,...\\,=\\sum\\limits_{n=1}^{+\\infty}\\frac{(-1)^n\\sqrt n}{n+1}$"
      ]
    },
    {
      "cell_type": "markdown",
      "metadata": {
        "id": "6W9LEG6zzZms"
      },
      "source": [
        "Проверим **необходимое условие** сходимости ряда:\n",
        "\n",
        "$$\\lim_{n\\to +\\infty} \\frac{(-1)^n\\sqrt n}{n+1}=(-1)^n\\frac{n^\\frac{1}{2}}{n+1}=\\frac{\\infty}{\\infty}=0$$\n",
        "\n",
        "Проверим **достаточное условие** сходимости ряда. Ряд является знакопеременным.\n",
        "\n",
        "Воспользуемся признаком Лейбница.\n",
        "\n",
        "Для сходимости достаточно, чтобы члены ряда $|a_n|$ убывали монотонно по модулю. \n",
        "\n",
        "$$\\lim_{n\\to +\\infty} \\Bigr|\\frac{(-1)^n\\sqrt n}{n+1}\\Bigr|=\\frac{+\\infty}{+\\infty}=0$$\n",
        "\n",
        "Ряд по модулю $\\sum\\limits_{n=1}^{+\\infty}|a_n|$ сходится, следовательно исходный ряд $\\sum\\limits_{n=1}^{+\\infty}a_n\\,{\\color {red}{сходится\\,абсолютно}}$."
      ]
    },
    {
      "cell_type": "code",
      "metadata": {
        "colab": {
          "base_uri": "https://localhost:8080/",
          "height": 58
        },
        "id": "9iZvMQ7k3kuq",
        "outputId": "e5e85168-b624-4cca-9a88-fcbb52e2d759"
      },
      "source": [
        "from sympy import *\n",
        "init_printing()\n",
        "\n",
        "x = Symbol('x')\n",
        "f = abs(((-1)**x)*sqrt(x)/(x+1))\n",
        "f"
      ],
      "execution_count": null,
      "outputs": [
        {
          "output_type": "execute_result",
          "data": {
            "image/png": "[encoded data removed]",
            "text/latex": "$\\displaystyle e^{- \\pi \\operatorname{im}{\\left(x\\right)}} \\left|{\\frac{\\sqrt{x}}{x + 1}}\\right|$",
            "text/plain": [
              " -π⋅im(x) │  √x │\n",
              "ℯ        ⋅│─────│\n",
              "          │x + 1│"
            ]
          },
          "metadata": {
            "tags": []
          },
          "execution_count": 53
        }
      ]
    },
    {
      "cell_type": "code",
      "metadata": {
        "colab": {
          "base_uri": "https://localhost:8080/",
          "height": 37
        },
        "id": "6SF6L7z-3mHs",
        "outputId": "81000e36-d357-485a-c41c-4fa461d5dbfa"
      },
      "source": [
        "limit(f, x, +oo)"
      ],
      "execution_count": null,
      "outputs": [
        {
          "output_type": "execute_result",
          "data": {
            "image/png": "[encoded data removed]",
            "text/latex": "$\\displaystyle 0$",
            "text/plain": [
              "0"
            ]
          },
          "metadata": {
            "tags": []
          },
          "execution_count": 54
        }
      ]
    },
    {
      "cell_type": "markdown",
      "metadata": {
        "id": "ruqw0mCsDZep"
      },
      "source": [
        "**__6*.__ Разложить функцию $y=e^x$ в ряд Маклорена, а так же в ряд Фурье на отрезке $[-\\pi, \\pi]$. Построить график функции и разложений.**"
      ]
    },
    {
      "cell_type": "markdown",
      "metadata": {
        "id": "kVQ73Vd3_pOf"
      },
      "source": [
        "Разложим функцию $f(x)=e^x$ в ряд Маклорена по формуле:\n",
        "\n",
        "$f(x)=\\sum\\limits_{n=0}^{+\\infty}\\frac{f^{(n)}(0)}{n!}x^n$\n",
        "\n",
        "$e^x=\\frac{e^0}{0!}x^0+\\frac{e^0}{1!}x^1+\\frac{e^0}{2!}x^2+\\frac{e^0}{3!}x^3...=1+\\frac{x}{1}+\\frac{x^2}{2}+\\frac{x^3}{6}...=\\sum\\limits_{n=0}^{+\\infty}\\frac{x^n}{n!}$"
      ]
    },
    {
      "cell_type": "code",
      "metadata": {
        "colab": {
          "base_uri": "https://localhost:8080/",
          "height": 265
        },
        "id": "RactXE11Te99",
        "outputId": "b77838d2-1458-42dd-9adc-e1ea26045434"
      },
      "source": [
        "import matplotlib.pyplot as plt\n",
        "import numpy as np\n",
        "import math\n",
        "\n",
        "n = 10\n",
        "step = 0.1\n",
        "\n",
        "# Точки для функции y = exp(x)\n",
        "x = np.arange(0, n, step)\n",
        "y = np.exp(x)\n",
        "\n",
        "# Точки для ряда Маклорена\n",
        "exp = 0\n",
        "for i in range(0, len(x)):\n",
        "  exp = exp + ((x**i)/math.factorial(i))\n",
        "\n",
        "fx = exp\n",
        "\n",
        "plt.plot(x, y, color=\"purple\", label=\"Функция y = exp(x)\", linewidth=7.0)\n",
        "plt.plot(x, fx, ls=\"dotted\", color=\"pink\", label=\"Ряд Маклорена f(x) = exp(x)\", linewidth=3.0)\n",
        "\n",
        "plt.legend()\n",
        "plt.show()"
      ],
      "execution_count": 89,
      "outputs": [
        {
          "output_type": "display_data",
          "data": {
            "image/png": "[encoded data removed]",
            "text/plain": [
              "<Figure size 432x288 with 1 Axes>"
            ]
          },
          "metadata": {
            "tags": [],
            "needs_background": "light"
          }
        }
      ]
    },
    {
      "cell_type": "markdown",
      "metadata": {
        "id": "uqhFMoR-mk4x"
      },
      "source": [
        "Разложим функцию $f(x)=e^x$ в ряд Фурье на отрезке $[-\\pi, \\pi]$ по формуле:\n",
        "\n",
        "$f(x)=a_{0}+\\sum\\limits_{n=1}^{+\\infty}(a_n\\cos nx+b_n\\sin nx)$\n",
        "\n",
        "где\n",
        "\n",
        "$a_0=\\frac{1}{2\\pi}\\int\\limits_{-\\pi}^\\pi f(x)\\,dx$\n",
        "\n",
        "$a_n=\\frac{1}{\\pi}\\int\\limits_{-\\pi}^\\pi f(x)\\cos nx\\,dx$\n",
        "\n",
        "$b_n=\\frac{1}{\\pi}\\int\\limits_{-\\pi}^\\pi f(x)\\sin nx\\,dx$\n",
        "\n",
        "Найдем все три интеграла:\n",
        "\n",
        "\n"
      ]
    },
    {
      "cell_type": "markdown",
      "metadata": {
        "id": "mEAA8jTJupGv"
      },
      "source": [
        "$a_0=\\frac{1}{2\\pi}\\int\\limits_{-\\pi}^\\pi e^x\\,dx=\\frac{1}{2\\pi} e^x \\Bigr|_{-\\pi}^\\pi=\\frac{1}{2\\pi} e^{\\pi}-\\frac{1}{2\\pi} e^{-\\pi}=\\frac{1}{2\\pi} (e^{\\pi}-e^{-\\pi})$\n",
        "\n"
      ]
    },
    {
      "cell_type": "markdown",
      "metadata": {
        "id": "Mgndw7jPus8p"
      },
      "source": [
        "$a_n=\\frac{1}{\\pi}\\int\\limits_{-\\pi}^\\pi e^x\\cos nx\\,dx$\n",
        "\n",
        "Возьмем интеграл по частям:\n",
        "\n",
        "$U=\\cos nx\\,\\,\\,\\,\\,\\Rightarrow\\,\\,\\,\\,\\, dU=-n\\sin nx\\,dx$ \n",
        "\n",
        "$dV=e^x\\,dx\\,\\,\\,\\,\\,\\Rightarrow\\,\\,\\,\\,\\, V=e^x$ \n",
        "\n",
        "$a_n=\\frac{1}{\\pi}\\int\\limits_{-\\pi}^\\pi e^x\\cos nx\\,dx=\\Bigr(\\frac{1}{\\pi}e^x\\cos nx\\Bigl)\\Bigr|_{-\\pi}^\\pi-\\frac{-n}{\\pi }\\int\\limits_{-\\pi}^\\pi e^x\\sin nx\\,dx=\\Bigr(\\frac{1}{\\pi }e^{\\pi}\\cos n\\pi - \\frac{1}{\\pi }e^{-\\pi}\\cos n(-\\pi)\\Bigl)+\\frac{n}{\\pi }\\int\\limits_{-\\pi}^\\pi e^x\\sin nx\\,dx=$\n",
        "\n",
        "Возьмем интеграл еще раз по частям:\n",
        "\n",
        "$U=\\sin nx\\,\\,\\,\\,\\,\\Rightarrow\\,\\,\\,\\,\\, dU=n\\cos nx\\,dx$ \n",
        "\n",
        "$dV=e^x\\,dx\\,\\,\\,\\,\\,\\Rightarrow\\,\\,\\,\\,\\, V=e^x$ \n",
        "\n",
        "$=\\frac{1}{\\pi }e^{\\pi}\\cos n\\pi - \\frac{1}{\\pi }e^{-\\pi}\\cos n(-\\pi)+\\frac{n}{\\pi }e^x\\sin nx\\Bigr|_{-\\pi}^\\pi-\\frac{n^2}{\\pi }\\int\\limits_{-\\pi}^\\pi e^x\\cos nx\\,dx=\\frac{1}{\\pi }e^{\\pi}\\cos n\\pi - \\frac{1}{\\pi }e^{-\\pi}\\cos n(-\\pi)+\\frac{n}{\\pi }e^{\\pi}\\sin n\\pi-\\frac{n}{\\pi }e^{-\\pi}\\sin n(-\\pi)-\\frac{n^2}{\\pi }\\int\\limits_{-\\pi}^\\pi e^x\\cos nx\\,dx$\n",
        "\n",
        "$a_n=\\frac{1}{\\pi}\\int\\limits_{-\\pi}^\\pi e^x\\cos nx\\,dx=-\\frac{-\\frac{n \\sin \\pi n}{(n^2 + 1)e^{\\pi}}+\\frac{\\cos \\pi n}{(n^2 + 1)e^{\\pi}}}{\\pi}+\\frac{-\\frac{n e^{\\pi} \\sin \\pi n}{n^2 + 1}+\\frac{e^{\\pi} \\cos \\pi n}{n^2 + 1}}{\\pi}$"
      ]
    },
    {
      "cell_type": "markdown",
      "metadata": {
        "id": "WR9mSoGOuxIs"
      },
      "source": [
        "$b_n=\\frac{1}{\\pi}\\int\\limits_{-\\pi}^\\pi e^x\\sin nx\\,dx$\n",
        "\n",
        "Возьмем интеграл еще раз по частям:\n",
        "\n",
        "$U=\\sin nx\\,\\,\\,\\,\\,\\Rightarrow\\,\\,\\,\\,\\, dU=n\\cos nx\\,dx$ \n",
        "\n",
        "$dV=e^x\\,dx\\,\\,\\,\\,\\,\\Rightarrow\\,\\,\\,\\,\\, V=e^x$\n",
        "\n",
        "$b_n=\\frac{1}{\\pi}e^x\\sin nx\\Bigr|_{-\\pi}^\\pi - \\frac{n}{\\pi}\\int\\limits_{-\\pi}^\\pi e^x\\cos nx\\,dx$\n",
        "\n",
        "$b_n=\\frac{1}{\\pi}\\int\\limits_{-\\pi}^\\pi e^x\\cos nx\\,dx=-\\frac{-\\frac{n \\cos \\pi n}{(n^2 + 1)e^{\\pi}}-\\frac{\\sin \\pi n}{(n^2 + 1)e^{\\pi}}}{\\pi}+\\frac{-\\frac{n e^{\\pi} \\cos \\pi n}{n^2 + 1}+\\frac{e^{\\pi} \\sin \\pi n}{n^2 + 1}}{\\pi}$"
      ]
    },
    {
      "cell_type": "markdown",
      "metadata": {
        "id": "8glHa1K2wbbQ"
      },
      "source": [
        "Получаем следующую сумму:\n",
        "\n",
        "$f(x)=\\frac{1}{2\\pi} (e^{\\pi}-e^{-\\pi})+$\n",
        "\n",
        "$+\\sum\\limits_{n=1}^{+\\infty}\\Bigl(\\Bigl(-\\frac{-\\frac{n \\sin \\pi n}{(n^2 + 1)e^{\\pi}}+\\frac{\\cos \\pi n}{(n^2 + 1)e^{\\pi}}}{\\pi}+\\frac{-\\frac{n e^{\\pi} \\sin \\pi n}{n^2 + 1}+\\frac{e^{\\pi} \\cos \\pi n}{n^2 + 1}}{\\pi}\\Bigl)\\cos nx+\\Bigl(-\\frac{-\\frac{n \\cos \\pi n}{(n^2 + 1)e^{\\pi}}-\\frac{\\sin \\pi n}{(n^2 + 1)e^{\\pi}}}{\\pi}+\\frac{-\\frac{n e^{\\pi} \\cos \\pi n}{n^2 + 1}+\\frac{e^{\\pi} \\sin \\pi n}{n^2 + 1}}{\\pi}\\Bigl)\\sin nx\\Bigl)$"
      ]
    },
    {
      "cell_type": "code",
      "metadata": {
        "colab": {
          "base_uri": "https://localhost:8080/",
          "height": 57
        },
        "id": "v8PuCjbQQmK2",
        "outputId": "609682f4-bcc0-4d9a-87c3-2bc19ba3d1d0"
      },
      "source": [
        "from sympy import *\n",
        "from sympy.abc import x\n",
        "\n",
        "f = exp(x)\n",
        "s = fourier_series(f, (x, -pi, pi))\n",
        "\n",
        "s1 = s.truncate(n=2)\n",
        "s1"
      ],
      "execution_count": 221,
      "outputs": [
        {
          "output_type": "execute_result",
          "data": {
            "text/latex": "$\\displaystyle \\frac{\\left(- \\frac{1}{2 e^{\\pi}} + \\frac{e^{\\pi}}{2}\\right) \\sin{\\left(x \\right)}}{\\pi} + \\frac{\\left(- \\frac{e^{\\pi}}{2} + \\frac{1}{2 e^{\\pi}}\\right) \\cos{\\left(x \\right)}}{\\pi} + \\frac{- \\frac{1}{e^{\\pi}} + e^{\\pi}}{2 \\pi}$",
            "text/plain": [
              "(-exp(-pi)/2 + exp(pi)/2)*sin(x)/pi + (-exp(pi)/2 + exp(-pi)/2)*cos(x)/pi + (-exp(-pi) + exp(pi))/(2*pi)"
            ]
          },
          "metadata": {
            "tags": []
          },
          "execution_count": 221
        }
      ]
    },
    {
      "cell_type": "code",
      "metadata": {
        "colab": {
          "base_uri": "https://localhost:8080/",
          "height": 268
        },
        "id": "rx8y190KFbWU",
        "outputId": "90293c1d-5512-4b20-cf0a-c4466c2a14ab"
      },
      "source": [
        "import matplotlib.pyplot as plt\n",
        "import numpy as np\n",
        "import scipy.integrate as integrate\n",
        "\n",
        "n = 5\n",
        "step = 0.1\n",
        "\n",
        "# Точки для функции y = exp(x)\n",
        "x = np.arange(0, n, step)\n",
        "y = np.exp(x)\n",
        "\n",
        "# Точки для ряда Фурье\n",
        "\n",
        "# Через аналитическую формулу\n",
        "# exp = 0\n",
        "# for i in range(0, len(x)):\n",
        "#  exp = exp + ((-((-i*np.sin(i*np.pi)/((i**2+1)*np.exp(np.pi)))+(np.cos(i*np.pi)/((i**2+1)*np.exp(np.pi))))/np.pi)+((-i*np.exp(np.pi)*np.sin(i*np.pi)/(i**2+1))+(np.exp(np.pi)*np.cos(i*np.pi)/(i**2+1)))/np.pi)*np.cos(i*x)+((-((-i*np.cos(i*np.pi)/((i**2+1)*np.exp(np.pi)))-(np.sin(i*np.pi)/((i**2+1)*np.exp(np.pi))))/np.pi)+((-i*np.exp(np.pi)*np.cos(i*np.pi)/(i**2+1))+(np.exp(np.pi)*np.sin(i*np.pi)/(i**2+1)))/np.pi)*np.sin(i*x)\n",
        "#  \n",
        "# fx = (1/2*(np.pi))*(np.exp(np.pi)-np.exp(-np.pi)) + exp\n",
        "\n",
        "# Через готовые методы\n",
        "func_a0 = lambda x: np.exp(x)\n",
        "a0 = integrate.quad(func_a0, -np.pi, np.pi)[0]\n",
        "an_list = []\n",
        "bn_list = []\n",
        "\n",
        "for i in range(0, len(x)):\n",
        "  func_an = lambda x: np.exp(x)*np.cos(i*x)\n",
        "  an = (1/np.pi)*integrate.quad(func_an, -np.pi, np.pi)[0]\n",
        "  an_list.append(an)\n",
        "\n",
        "  func_bn = lambda x: np.exp(x)*np.sin(i*x)\n",
        "  bn = (1/np.pi)*integrate.quad(func_bn, -np.pi, np.pi)[0]\n",
        "  bn_list.append(bn)\n",
        "\n",
        "summ = 0\n",
        "for i in range(1, len(x)):\n",
        "  summ = summ + an_list[i]*np.cos(i*x) + bn_list[i]*np.sin(i*x)\n",
        "\n",
        "fx = a0 + summ\n",
        "\n",
        "plt.plot(x, y, color=\"purple\", label=\"Функция y = exp(x)\", linewidth=7.0)\n",
        "plt.plot(x, fx, ls=\"dotted\", color=\"pink\", label=\"Ряд Фурье f(x) = exp(x)\", linewidth=3.0)\n",
        "\n",
        "plt.legend()\n",
        "plt.show()"
      ],
      "execution_count": 222,
      "outputs": [
        {
          "output_type": "display_data",
          "data": {
            "image/png": "[encoded data removed]",
            "text/plain": [
              "<Figure size 432x288 with 1 Axes>"
            ]
          },
          "metadata": {
            "tags": [],
            "needs_background": "light"
          }
        }
      ]
    }
  ]
}