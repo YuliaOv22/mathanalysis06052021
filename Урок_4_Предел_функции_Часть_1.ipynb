{
  "nbformat": 4,
  "nbformat_minor": 0,
  "metadata": {
    "colab": {
      "name": "Урок 4. Предел функции. Часть 1.ipynb",
      "provenance": []
    },
    "kernelspec": {
      "name": "python3",
      "display_name": "Python 3"
    },
    "language_info": {
      "name": "python"
    }
  },
  "cells": [
    {
      "cell_type": "markdown",
      "metadata": {
        "id": "SmdURZ_OkVqQ"
      },
      "source": [
        "### **__1.__ Найти предел последовательности:**\n",
        "\n",
        "$$а)\\,\\,\\,\\,\\lim_{x\\to 6} \\frac{x^2-36}{x^2-x-30}$$\n",
        "\n",
        "$$б)\\,\\,\\,\\,\\lim_{x\\to 7} \\frac{x^2-49}{x^2-13x+42}$$\n",
        "\n",
        "$$в^*)\\,\\,\\,\\,\\lim_{x\\to 7} \\frac{\\sqrt{x+2}-\\sqrt[3]{x+20}}{\\sqrt[4]{x+9}-2}$$\n",
        "\n",
        "$$г)\\,\\,\\,\\,\\lim_{x\\to 0} \\frac{3x\\,\\mbox{tg}\\,4x}{1-\\cos4x}$$\n",
        "\n",
        "$$д^{**})\\,\\,\\,\\,\\lim_{x\\to 0} \\frac{\\sqrt2x^2\\sin4x}{(1-\\cos2x)^{\\frac{3}{2}}}$$\n",
        "\n",
        "$$е)\\,\\,\\,\\,\\lim_{x\\to \\infty} \\Bigr(\\frac{4x}{4x+3}\\Bigl)^\\frac{5x^2}{7x-1}$$\n",
        "\n",
        "$$ж^*)\\,\\,\\,\\,\\lim_{x\\to +0} \\frac{5^x-1}{x}$$\n",
        "\n",
        "$$з^*)\\,\\,\\,\\,\\lim_{x\\to +\\infty} \\frac{\\ln(x^2-x+1)}{\\ln(x^{10}+x+1)}$$"
      ]
    },
    {
      "cell_type": "markdown",
      "metadata": {
        "id": "gdzpIU7ZQFuS"
      },
      "source": [
        "$$а)\\,\\,\\,\\,\\lim_{x\\to 6} \\frac{x^2-36}{x^2-x-30}=\\Bigl(\\frac{0}{0}\\Bigl)=\\frac{(x-6)(x+6)}{(x-6)(x+5)}=\\frac{x+6}{x+5}={\\color {red}{\\frac{12}{11}}}$$\n"
      ]
    },
    {
      "cell_type": "markdown",
      "metadata": {
        "id": "iyirTiX8SUuK"
      },
      "source": [
        "$$б)\\,\\,\\,\\,\\lim_{x\\to 7} \\frac{x^2-49}{x^2-13x+42}=\\Bigl(\\frac{0}{0}\\Bigl)=\\frac{(x-7)(x+7)}{(x-7)(x-6)}=\\frac{x+7}{x-6}={\\color {red}{14}}$$"
      ]
    },
    {
      "cell_type": "markdown",
      "metadata": {
        "id": "id-VKXvkTBA4"
      },
      "source": [
        "$$в^*)\\,\\,\\,\\,\\lim_{x\\to 7} \\frac{\\sqrt{x+2}-\\sqrt[3]{x+20}}{\\sqrt[4]{x+9}-2}=\\Bigl(\\frac{0}{0}\\Bigl)$$\n",
        "\n",
        "Возьмем производные верхнего и нижнего выражений. Тогда получим:\n",
        "\n",
        "$$\\lim_{x\\to 7} \\frac{(\\sqrt{x+2}-\\sqrt[3]{x+20})'}{(\\sqrt[4]{x+9}-2)'}=\\frac{(\\sqrt{x+2})'-(\\sqrt[3]{x+20})'}{(\\sqrt[4]{x+9})'-(2)'}=\\frac{\\frac{1}{2\\sqrt{x+2}}-\\frac{1}{3\\sqrt[3]{(x+20)^2}}}{\\frac{1}{4\\sqrt[4]{(x+9)^3}}}=4\\sqrt[4]{(x+9)^3}\\Bigl(\\frac{1}{2\\sqrt{x+2}}-\\frac{1}{3\\sqrt[3]{(x+20)^2}}\\Bigl)=\\frac{2\\sqrt[4]{(x+9)^3}}{\\sqrt{x+2}}-\\frac{4\\sqrt[4]{(x+9)^3}}{3\\sqrt[3]{(x+20)^2}}$$\n",
        "\n",
        "Подставим $x=7$.\n",
        "\n",
        "$$\\frac{2\\sqrt[4]{(7+9)^3}}{\\sqrt{7+2}}-\\frac{4\\sqrt[4]{(7+9)^3}}{3\\sqrt[3]{(7+20)^2}}=\\frac{2\\sqrt[4]{(16)^3}}{\\sqrt{9}}-\\frac{4\\sqrt[4]{(16)^3}}{3\\sqrt[3]{(27)^2}}=\\frac{2*8}{3}-\\frac{4*8}{3*9}=\\frac{144-32}{27}={\\color {red}{\\frac{112}{27}}}$$"
      ]
    },
    {
      "cell_type": "markdown",
      "metadata": {
        "id": "lbCZuHGQzfzw"
      },
      "source": [
        "$$г)\\,\\,\\,\\,\\lim_{x\\to 0} \\frac{3x\\,\\mbox{tg}\\,4x}{1-\\cos4x}=\\Bigl(\\frac{0}{0}\\Bigl)=\\frac{3x*4x}{\\frac{(4x)^2}{2}}=\\frac{24x^2}{16x^2}={\\color {red}{\\frac{3}{2}}}$$"
      ]
    },
    {
      "cell_type": "markdown",
      "metadata": {
        "id": "Xh4UoVij87tZ"
      },
      "source": [
        "$$д^{**})\\,\\,\\,\\,\\lim_{x\\to 0} \\frac{\\sqrt2x^2\\sin4x}{(1-\\cos2x)^{\\frac{3}{2}}}=\\Bigl(\\frac{0}{0}\\Bigl)=\\frac{\\sqrt2x^2*4x}{\\Bigl(\\frac{(2x)^2}{2}\\Bigl)^\\frac{3}{2}}=\\frac{4\\sqrt2x^3}{(\\sqrt[2]{2x^2})^3}=\\frac{4\\sqrt2x^3}{(x\\sqrt{2})^3}=\\frac{4\\sqrt2x^3}{2\\sqrt{2}x^3}={\\color {red}{2}}$$"
      ]
    },
    {
      "cell_type": "markdown",
      "metadata": {
        "id": "C_gaSAXtElKi"
      },
      "source": [
        "$$е)\\,\\,\\,\\,\\lim_{x\\to \\infty} \\Bigr(\\frac{4x}{4x+3}\\Bigl)^\\frac{5x^2}{7x-1}=(1)^{+\\infty}=$$\n",
        "\n",
        "$$=\\lim_{x\\to \\infty} e^{\\Bigl(\\frac{4x}{4x+3}-1\\Bigr)\\frac{5x^2}{7x-1}}=e^{\\Bigl(\\frac{20x^3}{(4x+3)(7x-1)}-\\frac{5x^2}{7x-1}\\Bigr)}=e^{\\Bigl(\\frac{20x^3-20x^3-15x^2}{(4x+3)(7x-1)}\\Bigr)}=e^{\\Bigl(\\frac{-15x^2}{28x^2+17x-3}\\Bigr)}={\\color {red}{e^{\\Bigl(-\\frac{15}{28}\\Bigr)}}}$$"
      ]
    },
    {
      "cell_type": "markdown",
      "metadata": {
        "id": "EtUgsoRMMoJV"
      },
      "source": [
        "$$ж^*)\\,\\,\\,\\,\\lim_{x\\to +0} \\frac{5^x-1}{x}=\\Bigl(\\frac{0}{0}\\Bigl)$$\n",
        "\n",
        "Возьмем производные верхнего и нижнего выражений. Тогда получим:\n",
        "\n",
        "$$\\lim_{x\\to +0} \\frac{(5^x-1)'}{x'}=\\frac{(5^x)'}{1}=5^x*\\ln(5)={\\color {red}{\\ln(5)}}$$"
      ]
    },
    {
      "cell_type": "markdown",
      "metadata": {
        "id": "0zl3rI700W4b"
      },
      "source": [
        "$$з^*)\\,\\,\\,\\,\\lim_{x\\to +\\infty} \\frac{\\ln(x^2-x+1)}{\\ln(x^{10}+x+1)}=\\Bigl(\\frac{\\infty}{\\infty}\\Bigl)$$\n",
        "\n",
        "Возьмем производные верхнего и нижнего выражений. Тогда получим:\n",
        "\n",
        "$$\\lim_{x\\to +\\infty} \\frac{(\\ln(x^2-x+1))'}{(\\ln(x^{10}+x+1))'}=\\frac{(x^{10}+x+1)(x^2-x+1)'}{(x^2-x+1)(x^{10}+x+1)'}=\\frac{(x^{10}+x+1)(2x-1)}{(x^2-x+1)(10x^9+1)}=$$\n",
        "\n",
        "$$=\\frac{2x^{11}-x^{10}+2x^2+x-1}{10x^{11}+x^2-x^{10}-x+10x^9+1}=\\frac{2}{10}={\\color {red}{\\frac{1}{5}}}$$"
      ]
    },
    {
      "cell_type": "markdown",
      "metadata": {
        "id": "DDZoCuAdRLZq"
      },
      "source": [
        "**__2*.__ На языке Python предложить алгоритм вычисляющий численно предел последовательности**\n",
        "\n",
        "$$\\lim_{n\\to +\\infty} \\frac{n}{\\sqrt[n]{n!}}$$"
      ]
    },
    {
      "cell_type": "code",
      "metadata": {
        "colab": {
          "base_uri": "https://localhost:8080/"
        },
        "id": "l5H1ZF23Ee0X",
        "outputId": "a4a0124c-29de-4254-9980-7b62b203af66"
      },
      "source": [
        "import math\n",
        "from decimal import Decimal\n",
        "\n",
        "eps = 0.001\n",
        "lim = math.e\n",
        "n = 2\n",
        "a2 = 1\n",
        "\n",
        "while lim > eps:\n",
        "    a1 = a2\n",
        "    a2 = n / (math.pow(Decimal(math.factorial(n)), (1/n)))\n",
        "    lim = abs(a1 - a2)\n",
        "    n += 1\n",
        "\n",
        "print(f'Численное значение предела: {a2}',\n",
        "      f'\\nПогрешность: {lim}',\n",
        "      f'\\nЧисло шагов: {n - 1}')"
      ],
      "execution_count": 90,
      "outputs": [
        {
          "output_type": "stream",
          "text": [
            "Численное значение предела: 2.618690898433316 \n",
            "Погрешность: 0.0009888997601330551 \n",
            "Число шагов: 84\n"
          ],
          "name": "stdout"
        }
      ]
    },
    {
      "cell_type": "code",
      "metadata": {
        "colab": {
          "base_uri": "https://localhost:8080/"
        },
        "id": "M9mEyGeL4YFj",
        "outputId": "a5e98355-6d93-40f1-bbf5-5d48e3a0ee61"
      },
      "source": [
        "import math\n",
        "from decimal import Decimal\n",
        "\n",
        "eps = 0.0001\n",
        "lim = math.e\n",
        "n = 2\n",
        "a2 = 1\n",
        "\n",
        "while lim > eps:\n",
        "    a1 = a2\n",
        "    a2 = n / (math.pow(Decimal(math.factorial(n)), (1/n)))\n",
        "    lim = abs(a1 - a2)\n",
        "    n += 1\n",
        "\n",
        "print(f'Численное значение предела: {a2}',\n",
        "      f'\\nПогрешность: {lim}',\n",
        "      f'\\nЧисло шагов: {n - 1}')"
      ],
      "execution_count": 91,
      "outputs": [
        {
          "output_type": "stream",
          "text": [
            "Численное значение предела: 0.0 \n",
            "Погрешность: 0.0 \n",
            "Число шагов: 172\n"
          ],
          "name": "stdout"
        }
      ]
    }
  ]
}