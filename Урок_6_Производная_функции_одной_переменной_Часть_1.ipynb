{
  "nbformat": 4,
  "nbformat_minor": 0,
  "metadata": {
    "colab": {
      "name": "Урок 6. Производная функции одной переменной. Часть 1.ipynb",
      "provenance": []
    },
    "kernelspec": {
      "name": "python3",
      "display_name": "Python 3"
    },
    "language_info": {
      "name": "python"
    }
  },
  "cells": [
    {
      "cell_type": "markdown",
      "metadata": {
        "id": "SmdURZ_OkVqQ"
      },
      "source": [
        "**__1.__ Найти производную $y'_{x}$ функции:**\n",
        "\n",
        "### $\\mbox{arctg}(\\frac{y}{x})=\\ln \\sqrt{x^2+y^2}$"
      ]
    },
    {
      "cell_type": "markdown",
      "metadata": {
        "id": "kiE3lsOLwiqF"
      },
      "source": [
        "### $\\mbox{arctg}(\\frac{y}{x})-\\ln \\sqrt{x^2+y^2}=0$\n",
        "\n",
        "### $F'_{х}=(\\mbox{arctg}(\\frac{y}{x})-\\ln \\sqrt{x^2+y^2})'=(\\mbox{arctg}(\\frac{y}{x}))'-(\\ln \\sqrt{x^2+y^2})'=\\frac{1}{1+(\\frac{y}{x})^2}*(-\\frac{y}{x^2})-\\frac{1}{\\sqrt {x^2+y^2}}*\\frac{1}{2 \\sqrt{x^2+y^2}}*2x=-\\frac{y}{x^2+y^2}-\\frac{x}{x^2+y^2}=-\\frac{x+y}{x^2+y^2}$\n",
        "\n",
        "### $F'_{y}=(\\mbox{arctg}(\\frac{y}{x})-\\ln \\sqrt{x^2+y^2})'=\\frac{1}{1+(\\frac{y}{x})^2}*(\\frac{1}{x})-\\frac{1}{\\sqrt {x^2+y^2}}*\\frac{1}{2 \\sqrt{x^2+y^2}}*2y=\\frac{1}{x(1+\\frac{y^2}{x^2})}-\\frac{y}{x^2+y^2}=\\frac{x-y}{x^2+y^2}$\n",
        "\n",
        "### $y'_{x}=-\\frac {F'_{х}}{F'_{y}}=-\\frac{-\\frac{x+y}{x^2+y^2}}{\\frac{x-y}{x^2+y^2}}={\\color {red}{\\frac{x+y}{x-y}}}$\n",
        "\n"
      ]
    },
    {
      "cell_type": "code",
      "metadata": {
        "colab": {
          "base_uri": "https://localhost:8080/",
          "height": 86
        },
        "id": "VpjYpBLF04Di",
        "outputId": "c2195235-f5ff-4ab5-a2e0-f99eb5d49e9d"
      },
      "source": [
        "from sympy import *\n",
        "init_printing()\n",
        "\n",
        "x,y=symbols('x y')\n",
        "f=atan(y/x) - log((x**2 + y**2)**(1/2))\n",
        "\n",
        "-diff(f,x)/diff(f,y)"
      ],
      "execution_count": null,
      "outputs": [
        {
          "output_type": "execute_result",
          "data": {
            "image/png": "[encoded data removed]",
            "text/latex": "$\\displaystyle \\frac{\\frac{1.0 x}{\\left(x^{2} + y^{2}\\right)^{1.0}} + \\frac{y}{x^{2} \\left(1 + \\frac{y^{2}}{x^{2}}\\right)}}{- \\frac{1.0 y}{\\left(x^{2} + y^{2}\\right)^{1.0}} + \\frac{1}{x \\left(1 + \\frac{y^{2}}{x^{2}}\\right)}}$",
            "text/plain": [
              "               -1.0              \n",
              "      ⎛ 2    2⎞            y     \n",
              "1.0⋅x⋅⎝x  + y ⎠     + ───────────\n",
              "                         ⎛     2⎞\n",
              "                       2 ⎜    y ⎟\n",
              "                      x ⋅⎜1 + ──⎟\n",
              "                         ⎜     2⎟\n",
              "                         ⎝    x ⎠\n",
              "─────────────────────────────────\n",
              "               -1.0              \n",
              "      ⎛ 2    2⎞           1      \n",
              "  - y⋅⎝x  + y ⎠     + ────────── \n",
              "                        ⎛     2⎞ \n",
              "                        ⎜    y ⎟ \n",
              "                      x⋅⎜1 + ──⎟ \n",
              "                        ⎜     2⎟ \n",
              "                        ⎝    x ⎠ "
            ]
          },
          "metadata": {
            "tags": []
          },
          "execution_count": 11
        }
      ]
    },
    {
      "cell_type": "markdown",
      "metadata": {
        "id": "cECfCSANkVqR"
      },
      "source": [
        "**__2.__ Найти производную $y'_{x}$ функции:**\n",
        "\n",
        "### \\begin{cases}\n",
        "   y=\\frac{t^2}{t-1}, \\\\\n",
        "   x=\\frac{t}{t^2-1} \n",
        " \\end{cases}"
      ]
    },
    {
      "cell_type": "markdown",
      "metadata": {
        "id": "CsH9i6s3Atfp"
      },
      "source": [
        "### $y'_{x}=\\frac{y'_{t}}{x'_{t}}=\\frac{\\frac{(t^2)'(t-1)-t^2(t-1)'}{(t-1)^2}}{\\frac{t'(t^2-1)-t(t^2-1)'}{(t^2-1)^2}}=\\frac{\\frac{t^2-2t}{(t-1)^2}}{\\frac{-t^2-1}{(t^2-1)^2}}={\\color {red}{-\\frac{(t^2-2t)(t^2-1)^2}{(t-1)^2(t^2+1)}}}$"
      ]
    },
    {
      "cell_type": "markdown",
      "metadata": {
        "id": "DFrjdtbHkVqS"
      },
      "source": [
        "**__3.__ Найти производную с помощью логарифмирования:**\n",
        "\n",
        "### $y=(x^2+2)^5\\cdot(3x-x^3)^3$"
      ]
    },
    {
      "cell_type": "markdown",
      "metadata": {
        "id": "ncwNpBNiFpf8"
      },
      "source": [
        "### $y'=(x^2+2)^5(3x-x^3)^3*\\ln((x^2+2)^5(3x-x^3)^3)'=(x^2+2)^5(3x-x^3)^3*\\Bigl(\\frac{10x}{(x^2+2)} + \\frac{9-9x^2}{(3x-x^3)}\\Bigl)={\\color {red}{10x(x^2+2)^4(3x-x^3)^3 + (9-9x^2)(x^2+2)^5(3x-x^3)^2}}$"
      ]
    },
    {
      "cell_type": "code",
      "metadata": {
        "colab": {
          "base_uri": "https://localhost:8080/",
          "height": 42
        },
        "id": "MMVpKDzQG6K2",
        "outputId": "d8f49f32-3d8c-44a9-f45c-5b2f9df075ca"
      },
      "source": [
        "from sympy import *\n",
        "init_printing()\n",
        "\n",
        "x=Symbol('x')\n",
        "y=(x**2 + 2)**5*(3*x - x**3)**3\n",
        "\n",
        "diff(y,x)"
      ],
      "execution_count": null,
      "outputs": [
        {
          "output_type": "execute_result",
          "data": {
            "image/png": "[encoded data removed]",
            "text/latex": "$\\displaystyle 10 x \\left(x^{2} + 2\\right)^{4} \\left(- x^{3} + 3 x\\right)^{3} + \\left(9 - 9 x^{2}\\right) \\left(x^{2} + 2\\right)^{5} \\left(- x^{3} + 3 x\\right)^{2}$",
            "text/plain": [
              "             4             3                      5             2\n",
              "     ⎛ 2    ⎞  ⎛   3      ⎞    ⎛       2⎞ ⎛ 2    ⎞  ⎛   3      ⎞ \n",
              "10⋅x⋅⎝x  + 2⎠ ⋅⎝- x  + 3⋅x⎠  + ⎝9 - 9⋅x ⎠⋅⎝x  + 2⎠ ⋅⎝- x  + 3⋅x⎠ "
            ]
          },
          "metadata": {
            "tags": []
          },
          "execution_count": 5
        }
      ]
    },
    {
      "cell_type": "markdown",
      "metadata": {
        "id": "5la-eVLukVqT"
      },
      "source": [
        "**__4.__ Найти производную функции с помощью логарифмирования:**\n",
        "\n",
        "### $y=x^x$"
      ]
    },
    {
      "cell_type": "markdown",
      "metadata": {
        "id": "yXkzkTDGIpop"
      },
      "source": [
        "### $y'=x^x*(x\\ln(x))'=x^x(\\ln(x)+\\frac{x}{x})={\\color {red}{x^x(\\ln (x)+1)}}$"
      ]
    },
    {
      "cell_type": "code",
      "metadata": {
        "colab": {
          "base_uri": "https://localhost:8080/",
          "height": 38
        },
        "id": "kKqawjaJJUnh",
        "outputId": "fff72eee-919c-456c-b603-ac7c5afb15be"
      },
      "source": [
        "from sympy import *\n",
        "init_printing()\n",
        "\n",
        "x=Symbol('x')\n",
        "y=x**x\n",
        "\n",
        "diff(y,x)"
      ],
      "execution_count": null,
      "outputs": [
        {
          "output_type": "execute_result",
          "data": {
            "image/png": "[encoded data removed]",
            "text/latex": "$\\displaystyle x^{x} \\left(\\log{\\left(x \\right)} + 1\\right)$",
            "text/plain": [
              " x             \n",
              "x ⋅(log(x) + 1)"
            ]
          },
          "metadata": {
            "tags": []
          },
          "execution_count": 7
        }
      ]
    },
    {
      "cell_type": "markdown",
      "metadata": {
        "id": "kQlell_GkVqU"
      },
      "source": [
        "**__5.__ Найти производную функции с помощью логарифмирования:**\n",
        "\n",
        "### $y=\\frac{(2-x^2)^3\\cdot(x-1)^2}{(2x^3-3x)\\cdot e^x}$"
      ]
    },
    {
      "cell_type": "markdown",
      "metadata": {
        "id": "UbSsOYCIEAw8"
      },
      "source": [
        "### $y'=\\frac{(2-x^2)^3(x-1)^2}{(2x^3-3x)e^x}*(\\ln(\\frac{(2-x^2)^3(x-1)^2}{(2x^3-3x)e^x}))'=\\frac{(2-x^2)^3(x-1)^2}{(2x^3-3x)e^x}*((\\ln((2-x^2)^3(x-1)^2))'-(\\ln((2x^3-3x)e^x))')=\\frac{(2-x^2)^3(x-1)^2}{(2x^3-3x)e^x}*((3\\ln(2-x^2))' + (2\\ln(x-1))'-(\\ln(2x^3-3x))'+(\\ln(e^x))')={\\color {red}{\\frac{-6x(2-x^2)^2(x-1)^2}{(2x^3-3x)e^x} + \\frac{2(2-x^2)^3(x-1)}{(2x^3-3x)e^x}-\\frac{(6x^2-3)(2-x^2)^3(x-1)^2}{(2x^3-3x)^2e^x}+\\frac{(2-x^2)^3(x-1)^2}{(2x^3-3x)e^x}}}$"
      ]
    },
    {
      "cell_type": "code",
      "metadata": {
        "colab": {
          "base_uri": "https://localhost:8080/",
          "height": 66
        },
        "id": "K7Vg4bzgOFdH",
        "outputId": "cb44a473-1e92-4aaa-9d77-c551306b052d"
      },
      "source": [
        "from sympy import *\n",
        "init_printing()\n",
        "\n",
        "x=Symbol('x')\n",
        "y=((2 - x**2)**3*(x - 1)**2)/(exp(x)*(2*x**3 - 3*x))\n",
        "\n",
        "diff(y,x)"
      ],
      "execution_count": null,
      "outputs": [
        {
          "output_type": "execute_result",
          "data": {
            "image/png": "[encoded data removed]",
            "text/latex": "$\\displaystyle - \\frac{6 x \\left(2 - x^{2}\\right)^{2} \\left(x - 1\\right)^{2} e^{- x}}{2 x^{3} - 3 x} + \\frac{\\left(2 - x^{2}\\right)^{3} \\left(3 - 6 x^{2}\\right) \\left(x - 1\\right)^{2} e^{- x}}{\\left(2 x^{3} - 3 x\\right)^{2}} - \\frac{\\left(2 - x^{2}\\right)^{3} \\left(x - 1\\right)^{2} e^{- x}}{2 x^{3} - 3 x} + \\frac{\\left(2 - x^{2}\\right)^{3} \\left(2 x - 2\\right) e^{- x}}{2 x^{3} - 3 x}$",
            "text/plain": [
              "              2                        3                                   3  \n",
              "      ⎛     2⎞         2  -x   ⎛     2⎞  ⎛       2⎞        2  -x   ⎛     2⎞   \n",
              "  6⋅x⋅⎝2 - x ⎠ ⋅(x - 1) ⋅ℯ     ⎝2 - x ⎠ ⋅⎝3 - 6⋅x ⎠⋅(x - 1) ⋅ℯ     ⎝2 - x ⎠ ⋅(\n",
              "- ────────────────────────── + ───────────────────────────────── - ───────────\n",
              "             3                                       2                      3 \n",
              "          2⋅x  - 3⋅x                     ⎛   3      ⎞                    2⋅x  \n",
              "                                         ⎝2⋅x  - 3⋅x⎠                         \n",
              "\n",
              "                      3              \n",
              "      2  -x   ⎛     2⎞             -x\n",
              "x - 1) ⋅ℯ     ⎝2 - x ⎠ ⋅(2⋅x - 2)⋅ℯ  \n",
              "─────────── + ───────────────────────\n",
              "                        3            \n",
              "- 3⋅x                2⋅x  - 3⋅x      \n",
              "                                     "
            ]
          },
          "metadata": {
            "tags": []
          },
          "execution_count": 18
        }
      ]
    },
    {
      "cell_type": "markdown",
      "metadata": {
        "id": "tR20Nh4AG9d4"
      },
      "source": [
        "**__6*.__ Вывести табличное значение производной для функции**\n",
        "\n",
        "### $\\mbox{arctg}(x)$"
      ]
    },
    {
      "cell_type": "markdown",
      "metadata": {
        "id": "57sar_0ohOzK"
      },
      "source": [
        "### $y=\\arctan{(x)}$\n",
        "\n",
        "### $y'_{x}=\\frac{1}{x'_{y}}=\\frac{1}{(\\tan y)'_{y}}=\\frac{1}{\\frac{1}{\\cos^2 y}}=\\frac{1}{\\frac{\\sin^2 y + \\cos^2 y}{\\cos^2 y}}=\\frac{1}{\\frac{\\sin^2 y}{\\cos^2 y}+1}=\\frac{1}{\\tan^2 y+1}=\\frac{1}{\\tan^2 (\\arctan{(x)})+1}={\\color {red}{\\frac{1}{x^2+1}}}$"
      ]
    },
    {
      "cell_type": "code",
      "metadata": {
        "colab": {
          "base_uri": "https://localhost:8080/",
          "height": 53
        },
        "id": "H1PVAUkFUlP3",
        "outputId": "b78bc678-57ed-44fb-9408-dbe718c684c2"
      },
      "source": [
        "from sympy import *\n",
        "init_printing()\n",
        "\n",
        "x=Symbol('x')\n",
        "y=atan(x)\n",
        "\n",
        "diff(y,x)"
      ],
      "execution_count": null,
      "outputs": [
        {
          "output_type": "execute_result",
          "data": {
            "image/png": "[encoded data removed]",
            "text/latex": "$\\displaystyle \\frac{1}{x^{2} + 1}$",
            "text/plain": [
              "  1   \n",
              "──────\n",
              " 2    \n",
              "x  + 1"
            ]
          },
          "metadata": {
            "tags": []
          },
          "execution_count": 1
        }
      ]
    },
    {
      "cell_type": "markdown",
      "metadata": {
        "id": "yx_QOvyGG9d5"
      },
      "source": [
        "**__7.__ Найти длину $𝑥$ и ширину $𝑦$ прямоугольника при заданном периметре $𝑃=144$ cм, при которых данный прямоугольник имеет наибольшую площадь $𝑆$.**"
      ]
    },
    {
      "cell_type": "markdown",
      "metadata": {
        "id": "GOzOHth0Uus6"
      },
      "source": [
        "Площадь прямоугольника находится по формуле:\n",
        "\n",
        "#### $S=x*y$\n",
        "\n",
        "Периметр прямоугольника находится по формуле:\n",
        "\n",
        "#### $P=2(x+y)$\n",
        "\n",
        "Выразим из формулы периметра $y$:\n",
        "\n",
        "#### $2(x+y)=144$\n",
        "\n",
        "#### $y=72-x$\n",
        "\n",
        "Подставим $y$ в формулу площади и найдем производную:\n",
        "\n",
        "#### $S=x*(72-x)=72x-x^2$\n",
        "\n",
        "#### $S'=(72x-x^2)'=72-2x$\n",
        "\n",
        "Приравняем производную к нулю, чтобы найти критические точки.\n",
        "\n",
        "#### $72-2x=0$\n",
        "\n",
        "#### $x=36$\n",
        "\n",
        "Точка $36$ является критической точкой, а также точкой максимума, так как производная $S'$ меняет свой знак с \"$+$\" на \"$-$\".\n",
        "\n",
        "Таким образом, прямоугольник имеет наибольшую площадь, когда ${\\color {red}{x=36}}$ и ${\\color {red}{y=36}}$, то есть когда он является квадратом.\n",
        "\n"
      ]
    },
    {
      "cell_type": "code",
      "metadata": {
        "colab": {
          "base_uri": "https://localhost:8080/",
          "height": 378
        },
        "id": "USk9t1K3YySd",
        "outputId": "be16c11e-1290-45f1-d7c0-dba12675de6c"
      },
      "source": [
        "from matplotlib import pylab as plt\n",
        "import numpy as np\n",
        "%matplotlib inline\n",
        "\n",
        "plt.figure(figsize=(6, 6))\n",
        "plt.grid(color='grey', linestyle='-', linewidth=0.3)\n",
        "plt.axis([-200, 200, -1500, 1500])\n",
        "\n",
        "x=np.linspace(-200, 200, 200)\n",
        "y=72*x-x**2   # функция\n",
        "plt.plot(x, y, c='purple')\n",
        "\n",
        "g=72-2*x    # производная\n",
        "plt.plot(x, g, c='red')\n",
        "\n",
        "plt.show()"
      ],
      "execution_count": null,
      "outputs": [
        {
          "output_type": "display_data",
          "data": {
            "image/png": "[encoded data removed]",
            "text/plain": [
              "<Figure size 432x432 with 1 Axes>"
            ]
          },
          "metadata": {
            "tags": [],
            "needs_background": "light"
          }
        }
      ]
    },
    {
      "cell_type": "markdown",
      "metadata": {
        "id": "Qpa7Z6rbG9d5"
      },
      "source": [
        "**__8*.__ Завод $A$ отстоит от железной дороги, идущей с юга на север и проходящей через $B$, считая по кратчайшему расстоянию на $a$ км. Под каким углом $\\alpha$ к железной дороге следует ппостроить подъезной  путь от завода, чтобы транспортировка грузов из $A$ в $B$ была наиболее экономичной, если стоимость провоза тонны груза на расстоянии $1$ км составляет: по подъезному пути $p$ рублей, по железной дороге $q$ рублей $(p>q)$ и город $B$ расположен на $b$ км севернее завода $A$.**"
      ]
    },
    {
      "cell_type": "markdown",
      "metadata": {
        "id": "UE_dMw3jNKIK"
      },
      "source": [
        "**Решение**\n",
        "\n",
        "Рассмотри первый случай, когда подъезной путь встречается с железкой дорого до пункта  B ."
      ]
    },
    {
      "cell_type": "markdown",
      "metadata": {
        "id": "eusiQOwUTgo8"
      },
      "source": [
        "<img src=\"https://i.ibb.co/pPjz49b/7-3.png\" width = 400/>"
      ]
    },
    {
      "cell_type": "markdown",
      "metadata": {
        "id": "VCrKP8NrTgo9"
      },
      "source": [
        "Треугольник $ACD$ - прямоугольный, тогда:\n",
        "    \n",
        "### $$\\sin\\alpha=\\frac{a}{AC} \\Rightarrow AC=\\frac{a}{\\sin\\alpha}$$\n",
        "\n",
        "### $$\\mbox{ctg}\\alpha=\\frac{CD}{a} \\Rightarrow CD=a\\cdot \\mbox{ctg}\\alpha$$\n",
        "\n",
        "Составим функцию строимости перевозки:\n",
        "\n",
        "### $$S=AC\\cdot p  +BC\\cdot q$$\n",
        "\n",
        "### $$S=\\frac{a}{\\sin\\alpha}\\cdot p  +(b-a\\cdot \\mbox{ctg}\\alpha)\\cdot q$$\n",
        "\n",
        "Исследуем функцию:\n",
        "\n",
        "### $$S'=-\\frac{a\\cdot p\\cdot \\cos\\alpha}{\\sin^2\\alpha}+\\frac{a\\cdot q}{\\sin^2\\alpha}=\\frac{a\\cdot (-p\\cdot \\cos\\alpha+q)}{\\sin^2\\alpha}=0$$\n",
        "\n",
        "Точка в которой $\\sin x=0$ нас не интересует, т.к. $\\sin x$ в знаменате находится в четной степени. Поэтому остается одна критическая точка, при которой $cos\\alpha=\\frac{q}{p}$.\n",
        "\n",
        "По условию задачи $p>q$, поэтому такой случай возможен. Давайте проверим знаки в окресности. $cos\\alpha=\\frac{q}{p}<1$ следовательно слева от него можно взять $1$, т.к $cos\\alpha$ на участке от $0$ до $\\frac{\\pi}{2}$ убывает.\n",
        "\n",
        "Получается $S'=\\frac{a\\cdot (-p+q)}{\\sin^2\\alpha}<0$. Следовательно справа от $cos\\alpha=\\frac{q}{p}$ будет $S'>0$. Т.е. найденая точка является точкой минимума.\n",
        "\n",
        "### $$\\alpha=\\arccos{\\frac{q}{p}}$$\n",
        "\n",
        "Ответ будет верным до тех пор. пока $\\alpha$ меньше  $\\mbox{arctg}\\,\\,\\frac{a}{b}$. Т.е. если угол будет больше, то верным решением будет:\n",
        "\n",
        "### $$\\alpha=\\mbox{arctg}\\,\\,\\frac{a}{b}$$\n",
        "\n",
        "__Рассмотри второй случай, когда подъезной путь встречается с железкой дорого после пункта $B$.__\n",
        "\n"
      ]
    },
    {
      "cell_type": "markdown",
      "metadata": {
        "id": "GnTOYaubTgo-"
      },
      "source": [
        "<img src=\"https://i.ibb.co/st3TWnX/7-4.png\" width = 500/>"
      ]
    },
    {
      "cell_type": "markdown",
      "metadata": {
        "id": "nLICGtuiTgo_"
      },
      "source": [
        "Тогда:\n",
        "\n",
        "### $$S=AC\\cdot p  +BC\\cdot q$$\n",
        "\n",
        "### $$S=\\frac{a}{\\sin\\alpha}\\cdot p  +(a\\cdot \\mbox{ctg}\\alpha-b)\\cdot q$$\n",
        "\n",
        "Исследуем функцию:\n",
        "\n",
        "### $$S'=-\\frac{a\\cdot p\\cdot \\cos\\alpha}{\\sin^2\\alpha}-\\frac{a\\cdot q}{\\sin^2\\alpha}=\\frac{a\\cdot (-p\\cdot \\cos\\alpha-q)}{\\sin^2\\alpha}=0$$\n",
        "\n",
        "Мы так же можем найти критическу точку при которой $cos\\alpha=-\\frac{q}{p}$. Правда такой случай не возможен. Т.к. $cos\\alpha$ принимает отрицательные значения только при тупом угле $\\alpha$, чего по рисунку быть не может.\n",
        " \n",
        "Ответ: $\\alpha=\\arccos{\\frac{q}{p}}$"
      ]
    }
  ]
}