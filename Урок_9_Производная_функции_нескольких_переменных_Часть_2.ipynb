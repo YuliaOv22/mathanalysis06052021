{
  "nbformat": 4,
  "nbformat_minor": 0,
  "metadata": {
    "colab": {
      "name": "Урок 9. Производная функции нескольких переменных. Часть 2.ipynb",
      "provenance": []
    },
    "kernelspec": {
      "name": "python3",
      "display_name": "Python 3"
    },
    "language_info": {
      "name": "python"
    }
  },
  "cells": [
    {
      "cell_type": "markdown",
      "metadata": {
        "id": "SmdURZ_OkVqQ"
      },
      "source": [
        "**__1.__ Вычислить неопределенный интеграл**\n",
        "\n",
        "### $\\int \\frac{2x+3}{(x-2)(x+5)}\\,dx$\n"
      ]
    },
    {
      "cell_type": "markdown",
      "metadata": {
        "id": "MKfQ_rLWWybB"
      },
      "source": [
        "Решение методом неопределенных коэффициентов.\n",
        "\n",
        "$\\frac{2x+3}{(x-2)(x+5)} = \\frac{A}{x-2} + \\frac{B}{x+5} = \\frac{x(A+B)+(5A-2B)}{(x-2)(x+5)}$\n",
        "\n",
        "$\\begin{cases}\n",
        "   A+B=2 \\\\\n",
        "   5A-2B=3\n",
        " \\end{cases}\\,\\,\\,\\,\\,\\Rightarrow\\,\\,\\,\\,\\, \n",
        " \\begin{cases}\n",
        "   A=1 \\\\\n",
        "   B=1\n",
        " \\end{cases}$\n",
        "\n",
        "$\\frac{2x+3}{(x-2)(x+5)} = \\frac{1}{x-2} + \\frac{1}{x+5}$\n",
        "\n",
        "$\\int \\frac{2x+3}{(x-2)(x+5)}\\,dx = \\int \\frac{1}{x-2}\\,dx + \\int \\frac{1}{x+5}\\,dx = \\ln|x-2|+\\ln|x+5|+C={\\color {red}{\\ln((x-2)(x+5))+C}}$"
      ]
    },
    {
      "cell_type": "code",
      "metadata": {
        "colab": {
          "base_uri": "https://localhost:8080/",
          "height": 38
        },
        "id": "2_PqUqLQaalV",
        "outputId": "822bc19d-a745-4fa2-f1cb-e9f9527800e4"
      },
      "source": [
        "from sympy import *\n",
        "init_printing()\n",
        "\n",
        "x = Symbol('x')\n",
        "f = (2*x+3)/((x-2)*(x+5))\n",
        "\n",
        "integrate(f, x)"
      ],
      "execution_count": null,
      "outputs": [
        {
          "output_type": "execute_result",
          "data": {
            "image/png": "[encoded data removed]",
            "text/latex": "$\\displaystyle \\log{\\left(x^{2} + 3 x - 10 \\right)}$",
            "text/plain": [
              "   ⎛ 2           ⎞\n",
              "log⎝x  + 3⋅x - 10⎠"
            ]
          },
          "metadata": {
            "tags": []
          },
          "execution_count": 1
        }
      ]
    },
    {
      "cell_type": "markdown",
      "metadata": {
        "id": "cECfCSANkVqR"
      },
      "source": [
        "**__2.__ Вычислить неопределенный интеграл**\n",
        "\n",
        "### $\\int e^{2x}\\cos 3x\\,dx$"
      ]
    },
    {
      "cell_type": "markdown",
      "metadata": {
        "id": "RMri0CakWUru"
      },
      "source": [
        "Решение методом интегрирования по частям.\n",
        "\n",
        "$\\int U* dV=U* V-\\int V* dU$\n",
        "\n",
        "Разложим на части:\n",
        "\n",
        "$U = e^{2x}\\,\\,\\,\\,\\,\\Rightarrow\\,\\,\\,\\,\\,dU = 2e^{2x}\\,dx$\n",
        "\n",
        "$dV = \\cos 3x \\,dx\\,\\,\\,\\,\\,\\Rightarrow\\,\\,\\,\\,\\,V = \\frac{1}{3}\\sin 3x $\n",
        "\n",
        "Подставим в формулу:\n",
        "\n",
        "$\\int e^{2x}* \\cos 3x \\,dx=e^{2x}* \\frac{1}{3}\\sin 3x-\\int \\frac{1}{3}\\sin 3x* 2e^{2x}\\,dx$\n",
        "\n",
        "Снова разложим на части:\n",
        "\n",
        "$U = 2e^{2x}\\,\\,\\,\\,\\,\\Rightarrow\\,\\,\\,\\,\\,dU = 4e^{2x}\\,dx$\n",
        "\n",
        "$dV = \\frac{1}{3}\\sin 3x \\,dx\\,\\,\\,\\,\\,\\Rightarrow\\,\\,\\,\\,\\,V = -\\frac{1}{9}\\cos 3x $\n",
        "\n",
        "$\\int e^{2x}* \\cos 3x \\,dx=e^{2x}* \\frac{1}{3}\\sin 3x-(2e^{2x}*\\frac{1}{3}\\sin 3x \\,dx- \\int -\\frac{1}{9}\\cos 3x*4e^{2x}\\,dx)$\n",
        "\n",
        "$\\int e^{2x}* \\cos 3x \\,dx={\\color {red}{\\frac{3}{13}e^{2x}(\\sin 3x+\\frac{2}{3}\\cos 3x)+C}}$"
      ]
    },
    {
      "cell_type": "code",
      "metadata": {
        "colab": {
          "base_uri": "https://localhost:8080/",
          "height": 54
        },
        "id": "W-r7skulYcVd",
        "outputId": "f6e3faa8-6608-426c-d4d0-d530a49d28e6"
      },
      "source": [
        "from sympy import *\n",
        "init_printing()\n",
        "\n",
        "x = Symbol('x')\n",
        "f = exp(2*x)*cos(3*x)\n",
        "\n",
        "integrate(f, x)"
      ],
      "execution_count": null,
      "outputs": [
        {
          "output_type": "execute_result",
          "data": {
            "image/png": "[encoded data removed]",
            "text/latex": "$\\displaystyle \\frac{3 e^{2 x} \\sin{\\left(3 x \\right)}}{13} + \\frac{2 e^{2 x} \\cos{\\left(3 x \\right)}}{13}$",
            "text/plain": [
              "   2⋅x               2⋅x         \n",
              "3⋅ℯ   ⋅sin(3⋅x)   2⋅ℯ   ⋅cos(3⋅x)\n",
              "─────────────── + ───────────────\n",
              "       13                13      "
            ]
          },
          "metadata": {
            "tags": []
          },
          "execution_count": 2
        }
      ]
    },
    {
      "cell_type": "markdown",
      "metadata": {
        "id": "DFrjdtbHkVqS"
      },
      "source": [
        "**__3.__ Вычислить определенный интеграл**\n",
        "\n",
        "### $\\int\\limits_0^{\\ln2} xe^{-x}\\,dx$"
      ]
    },
    {
      "cell_type": "markdown",
      "metadata": {
        "id": "PyNKY6Ndgb-v"
      },
      "source": [
        "Решение методом интегрирования по частям.\n",
        "\n",
        "$\\int U* dV=U* V-\\int V* dU$\n",
        "\n",
        "Разложим на части:\n",
        "\n",
        "$U = x\\,\\,\\,\\,\\,\\Rightarrow\\,\\,\\,\\,\\,dU = dx$\n",
        "\n",
        "$dV = e^{-x} \\,dx\\,\\,\\,\\,\\,\\Rightarrow\\,\\,\\,\\,\\,V = -e^{-x} $\n",
        "\n",
        "Подставим в формулу:\n",
        "\n",
        "$\\int\\limits_0^{\\ln2} xe^{-x} \\,dx=-xe^{-x}-\\int\\limits_0^{\\ln2} (-e^{-x})\\,dx$\n",
        "\n",
        "$\\int\\limits_0^{\\ln2} xe^{-x} \\,dx=-xe^{-x}-e^{-x}$\n",
        "\n",
        "Поставим нижнее и верхнее значения интеграла в выражение:\n",
        "\n",
        "$\\int\\limits_0^{\\ln2} xe^{-x} \\,dx=-e^{-x}(x+1)\\bigg|_0^{\\ln2}=-e^{-\\ln2}(\\ln2+1)-(-e^{-0}(0+1))=-\\frac{1}{2}(\\ln2+1)+1={\\color {red}{-\\frac{\\ln2}{2}+\\frac{1}{2}}}$"
      ]
    },
    {
      "cell_type": "code",
      "metadata": {
        "colab": {
          "base_uri": "https://localhost:8080/",
          "height": 53
        },
        "id": "IRiCAxDshTiy",
        "outputId": "659c851a-48d9-4422-96c8-9444ec974128"
      },
      "source": [
        "from sympy import *\n",
        "init_printing()\n",
        "\n",
        "x = Symbol('x')\n",
        "f = exp(-x)*x\n",
        "\n",
        "integrate(f, (x, 0, ln(2)))"
      ],
      "execution_count": null,
      "outputs": [
        {
          "output_type": "execute_result",
          "data": {
            "image/png": "[encoded data removed]",
            "text/latex": "$\\displaystyle \\frac{1}{2} - \\frac{\\log{\\left(2 \\right)}}{2}$",
            "text/plain": [
              "1   log(2)\n",
              "─ - ──────\n",
              "2     2   "
            ]
          },
          "metadata": {
            "tags": []
          },
          "execution_count": 7
        }
      ]
    },
    {
      "cell_type": "markdown",
      "metadata": {
        "id": "8WjM7zpH4RyM"
      },
      "source": [
        "**__4.__ Вычислить несобственный интеграл**\n",
        "\n",
        "### $\\int\\limits_2^{+\\infty} \\frac{dx}{x^2+x-2}$"
      ]
    },
    {
      "cell_type": "markdown",
      "metadata": {
        "id": "PC-OCUsjs73i"
      },
      "source": [
        "Решение методом неопределенных коэффициентов.\n",
        "\n",
        "$\\frac{1}{x^2+x-2} = \\frac{1}{(x+2)(x-1)} = \\frac{A}{x+2} + \\frac{B}{x-1} = \\frac{x(A+B)+(-A+2B)}{(x+2)(x-1)}$\n",
        "\n",
        "$\\begin{cases}\n",
        "   A+B=0 \\\\\n",
        "   -A+2B=1\n",
        " \\end{cases}\\,\\,\\,\\,\\,\\Rightarrow\\,\\,\\,\\,\\, \n",
        " \\begin{cases}\n",
        "   A=-\\frac{1}{3} \\\\\n",
        "   B=\\frac{1}{3}\n",
        " \\end{cases}$\n",
        "\n",
        "$\\frac{1}{x^2+x-2} = -\\frac{1}{3(x+2)} + \\frac{1}{3(x-1)}$\n",
        "\n",
        "$\\int\\limits_2^{+\\infty} \\frac{dx}{x^2+x-2} = -\\int\\limits_2^{+\\infty} \\frac{dx}{3(x+2)}+\\int\\limits_2^{+\\infty} \\frac{dx}{3(x-1)} =$\n",
        "\n",
        "$$= \\lim_{b\\to +\\infty}-\\frac{1}{3}\\int\\limits_{2}^{b}\\frac{dx}{x+2}+\\lim_{b\\to +\\infty}\\frac{1}{3}\\int\\limits_{2}^{b}\\frac{dx}{x-1}=\\lim_{b\\to +\\infty}-\\frac{1}{3}\\ln|b+2|-(-\\frac{1}{3}\\ln|2+2|)+\\lim_{b\\to +\\infty}\\frac{1}{3}\\ln|b-1|-(\\frac{1}{3}\\ln|2-1|)=\\lim_{b\\to +\\infty}-\\frac{1}{3}\\ln|b+2|+\\frac{1}{3}\\ln4+\\lim_{b\\to +\\infty}\\frac{1}{3}\\ln|b-1|-\\frac{1}{3}\\ln1={\\color {red}{\\frac{1}{3}\\ln4}}$$"
      ]
    },
    {
      "cell_type": "code",
      "metadata": {
        "colab": {
          "base_uri": "https://localhost:8080/",
          "height": 53
        },
        "id": "wtGIwAyCslXB",
        "outputId": "30b5ee72-c171-4f89-b40f-68cea03e90dd"
      },
      "source": [
        "from sympy import *\n",
        "init_printing()\n",
        "\n",
        "x = Symbol('x')\n",
        "f = 1/(x**2+x-2)\n",
        "\n",
        "integrate(f, (x, 2, +oo))"
      ],
      "execution_count": null,
      "outputs": [
        {
          "output_type": "execute_result",
          "data": {
            "image/png": "[encoded data removed]",
            "text/latex": "$\\displaystyle \\frac{\\log{\\left(4 \\right)}}{3}$",
            "text/plain": [
              "log(4)\n",
              "──────\n",
              "  3   "
            ]
          },
          "metadata": {
            "tags": []
          },
          "execution_count": 11
        }
      ]
    },
    {
      "cell_type": "markdown",
      "metadata": {
        "id": "cuLCvoBm4RyO"
      },
      "source": [
        "**__5*.__ Вычислить несобственный интеграл**\n",
        "\n",
        "### $\\int\\limits_0^{1} \\ln x\\,dx$"
      ]
    },
    {
      "cell_type": "markdown",
      "metadata": {
        "id": "NrDYXbg65Ich"
      },
      "source": [
        "Решение методом интегрирования по частям.\n",
        "\n",
        "$\\int U* dV=U* V-\\int V* dU$\n",
        "\n",
        "Разложим на части:\n",
        "\n",
        "$U = \\ln x\\,\\,\\,\\,\\,\\Rightarrow\\,\\,\\,\\,\\,dU = \\frac{1}{x}$\n",
        "\n",
        "$dV = dx\\,\\,\\,\\,\\,\\Rightarrow\\,\\,\\,\\,\\,V = x $\n",
        "\n",
        "Подставим в формулу:\n",
        "\n",
        "$\\int\\limits_0^{1} \\ln x\\,dx=\\ln x*x-\\int\\limits_0^{1}x*\\frac{1}{x} = x\\ln x-x$\n",
        "\n",
        "Поставим нижнее и верхнее значения интеграла в выражение:\n",
        "\n",
        "$\\int\\limits_0^{1} \\ln x\\,dx=x\\ln x-x\\bigg|_0^1=1*\\ln 1-1-0*\\ln 0-0={\\color {red}{-1}}$"
      ]
    },
    {
      "cell_type": "code",
      "metadata": {
        "colab": {
          "base_uri": "https://localhost:8080/",
          "height": 37
        },
        "id": "VtDGJAzT5H_Z",
        "outputId": "736cf899-e88e-4ca7-e0c9-89f644bcb91f"
      },
      "source": [
        "from sympy import *\n",
        "init_printing()\n",
        "\n",
        "x = Symbol('x')\n",
        "f = ln(x)\n",
        "\n",
        "integrate(f, (x, 0, 1))"
      ],
      "execution_count": null,
      "outputs": [
        {
          "output_type": "execute_result",
          "data": {
            "image/png": "[encoded data removed]",
            "text/latex": "$\\displaystyle -1$",
            "text/plain": [
              "-1"
            ]
          },
          "metadata": {
            "tags": []
          },
          "execution_count": 12
        }
      ]
    }
  ]
}