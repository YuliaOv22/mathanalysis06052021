{
  "nbformat": 4,
  "nbformat_minor": 0,
  "metadata": {
    "colab": {
      "name": "Урок 3. Множество. Последовательность. Часть 2.ipynb",
      "provenance": []
    },
    "kernelspec": {
      "name": "python3",
      "display_name": "Python 3"
    },
    "language_info": {
      "name": "python"
    }
  },
  "cells": [
    {
      "cell_type": "markdown",
      "metadata": {
        "id": "SmdURZ_OkVqQ"
      },
      "source": [
        "### **__1.__ Найти предел последовательности:**\n",
        "\n",
        "$$а)\\,\\,\\,\\,\\lim_{n\\to \\infty} \\frac{(23-2n^2)(3n^2+17)^2}{4n^6+n-1}$$\n",
        "\n",
        "$$б)\\,\\,\\,\\,\\lim_{n\\to \\infty} \\frac{(97-2n)^3}{2n(3n^2+15)+8n}$$\n",
        "\n",
        "$$в)\\,\\,\\,\\,\\lim_{n\\to \\infty} \\frac{2n^3+13n(n+18)}{(27-n)(2n+19)^2}$$\n",
        "\n",
        "$$г)\\,\\,\\,\\,\\lim_{n\\to \\infty} (\\sqrt{n^2+1}-n)$$\n",
        "\n",
        "$$д)\\,\\,\\,\\,\\lim_{n\\to \\infty} \\frac{(-4)^n+5\\cdot7^n}{(-4)^{n-1}+7^{n+2}}$$\n",
        "\n",
        "$$e)^*\\,\\,\\,\\,\\lim_{n\\to \\infty} \\Bigl(\\frac{1}{1\\cdot2}+\\frac{1}{2\\cdot3}+\\frac{1}{3\\cdot4}+...+\\frac{1}{(n-1)\\cdot n}\\Bigr)$$"
      ]
    },
    {
      "cell_type": "markdown",
      "metadata": {
        "id": "lRToPvTQqzlW"
      },
      "source": [
        "$$а)\\,\\,\\,\\,\\lim_{n\\to \\infty} \\frac{(23-2n^2)(3n^2+17)^2}{4n^6+n-1} = \\frac{(23-2n^2)(9n^4+102n^2+289)}{4n^6+n-1} = \\frac{-18n^6+3n^4+1768n^2+6647}{4n^6+n-1} = \\Bigl(\\frac{-\\infty}{+\\infty}\\Bigl) = {\\color {red}{-\\frac{9}{2}}}$$"
      ]
    },
    {
      "cell_type": "markdown",
      "metadata": {
        "id": "BLhpZrY-ubIx"
      },
      "source": [
        "$$б)\\,\\,\\,\\,\\lim_{n\\to \\infty} \\frac{(97-2n)^3}{2n(3n^2+15)+8n} = \\frac{97^3 -3*97^2*(-2n)+3*97*(-2n)^2-(-2n)^3}{6n^3+38n} = \\Bigl(\\frac{-\\infty}{+\\infty}\\Bigl) = {\\color {red}{-\\frac{4}{3}}}$$"
      ]
    },
    {
      "cell_type": "markdown",
      "metadata": {
        "id": "CB6REHapwsO-"
      },
      "source": [
        "$$в)\\,\\,\\,\\,\\lim_{n\\to \\infty} \\frac{2n^3+13n(n+18)}{(27-n)(2n+19)^2} = \\frac{2n^3+13n^2+234n}{(27-n)(4n^2+76n+361)}= \\frac{2n^3+13n^2+234n}{-4n^3+32n^2+1691n+9747} = \\Bigl(\\frac{+\\infty}{-\\infty}\\Bigl) = {\\color {red}{-\\frac{1}{2}}}$$"
      ]
    },
    {
      "cell_type": "markdown",
      "metadata": {
        "id": "OJ8SIY3QyxS2"
      },
      "source": [
        "$$г)\\,\\,\\,\\,\\lim_{n\\to \\infty} (\\sqrt{n^2+1}-n) = (\\infty-\\infty) = (\\sqrt{n^2+1}-n)*\\frac{\\sqrt{n^2+1}+n}{\\sqrt{n^2+1}+n} = \\frac{n^2+1-n^2}{\\sqrt{n^2+1}+n} = \\frac{1}{\\sqrt{n^2+1}+n} = \\Bigl(\\frac{1}{\\infty}\\Bigl) = {\\color {red}{0}}$$"
      ]
    },
    {
      "cell_type": "markdown",
      "metadata": {
        "id": "qaFPuvJt0RZh"
      },
      "source": [
        "$$д)\\,\\,\\,\\,\\lim_{n\\to \\infty} \\frac{(-4)^n+5*7^n}{(-4)^{n-1}+7^{n+2}} = \\frac{(-4)^n+5*7^n}{\\frac{(-4)^n}{(-4)}+7^n*7^2} = \\frac{7n*((-\\frac{4}{7})^n+5)}{7n*((-\\frac{1}{4})*(-\\frac{4}{7})^n+49)} = \\Bigl(\\frac{\\infty}{\\infty}\\Bigl) = {\\color {red}{\\frac{5}{49}}}$$"
      ]
    },
    {
      "cell_type": "markdown",
      "metadata": {
        "id": "dQ3C_1_D7_LF"
      },
      "source": [
        "$$e)^*\\,\\,\\,\\,\\lim_{n\\to \\infty} \\Bigl(\\frac{1}{1*2}+\\frac{1}{2*3}+\\frac{1}{3*4}+...+\\frac{1}{(n-1)* n}\\Bigr)={\\color {red}{1}}$$\n",
        "\n",
        "$S_1=\\frac{1}{1*2}=1-\\frac{1}{2}$\n",
        "\n",
        "$S_2=\\frac{1}{1*2}+\\frac{1}{2*3}=\\Bigl(1-\\frac{1}{2}\\Bigr)+\\Bigl(\\frac{1}{2}-\\frac{1}{3}\\Bigr)=1-\\frac{1}{3}$\n",
        "\n",
        "$S_3=\\frac{1}{1*2}+\\frac{1}{2*3}+\\frac{1}{3*4}=\\Bigl(1-\\frac{1}{2}\\Bigr)+\\Bigl(\\frac{1}{2}-\\frac{1}{3}\\Bigr)+\\Bigl(\\frac{1}{3}-\\frac{1}{4}\\Bigr)=1-\\frac{1}{4}$\n",
        "\n",
        "$S_n=\\frac{1}{(n-1)* n}=1-\\frac{1}{n}$\n",
        "\n",
        "$$\\lim_{n\\to \\infty} \\Bigl(1-\\frac{1}{n}\\Bigr)=1$$"
      ]
    },
    {
      "cell_type": "markdown",
      "metadata": {
        "id": "U7nB-PQaI9UL"
      },
      "source": [
        "### **__2.__ Представьте $1$ в виде суммы трех рациональных дробей с разными знаменателями и числителем равным $1$.**"
      ]
    },
    {
      "cell_type": "markdown",
      "metadata": {
        "id": "Wzz-q0wMVmt1"
      },
      "source": [
        "$$1 =\\frac{1}{2} + \\frac{1}{3} + \\frac{1}{6}$$"
      ]
    },
    {
      "cell_type": "code",
      "metadata": {
        "colab": {
          "base_uri": "https://localhost:8080/"
        },
        "id": "4s1ZtycLU_9y",
        "outputId": "5c8d4cdb-2238-4bb8-c723-db8d3a9e0da4"
      },
      "source": [
        "print(1/2 + 1/3 + 1/6)"
      ],
      "execution_count": null,
      "outputs": [
        {
          "output_type": "stream",
          "text": [
            "0.9999999999999999\n"
          ],
          "name": "stdout"
        }
      ]
    },
    {
      "cell_type": "markdown",
      "metadata": {
        "id": "tCoNtjxgI9UL"
      },
      "source": [
        "### **__3$^*$.__ Тоже задание, только в виде суммы шести дробей.**"
      ]
    },
    {
      "cell_type": "markdown",
      "metadata": {
        "id": "T-Soyd8I8HHg"
      },
      "source": [
        "$$1 =\\frac{1}{3} + \\frac{1}{4} + \\frac{1}{6} + \\frac{1}{8} + \\frac{1}{12} + \\frac{1}{24}$$"
      ]
    },
    {
      "cell_type": "code",
      "metadata": {
        "colab": {
          "base_uri": "https://localhost:8080/"
        },
        "id": "nNxvoayGBFin",
        "outputId": "75ee4eb5-1e56-408f-8252-9b39c6702e6f"
      },
      "source": [
        "print(1/3 + 1/4 + 1/6 +1/8 + 1/12 + 1/24)"
      ],
      "execution_count": null,
      "outputs": [
        {
          "output_type": "stream",
          "text": [
            "0.9999999999999999\n"
          ],
          "name": "stdout"
        }
      ]
    },
    {
      "cell_type": "markdown",
      "metadata": {
        "id": "optrtoUHI9UM"
      },
      "source": [
        "### **__4.__ Пользуясь критерием Коши, докажите сходимость последовательности:**\n",
        "\n",
        "$$a_n=\\frac{\\sin1}{2}+\\frac{\\sin2}{2^2}+\\frac{\\sin3}{2^3}+..\\frac{\\sin n}{2^n}\\,\\,\\,\\,\\,\\Rightarrow$$\n",
        "\n",
        "$$\\Bigl\\{a_n\\Bigr\\}_{n=1}^\\infty=\\Bigl\\{\\frac{\\sin1}{2}, \\frac{\\sin1}{2}+\\frac{\\sin2}{2^2}, ..., a_n,...\\Bigr\\}$$\n",
        "\n",
        "\n",
        "$^*$ Какой член последовательности можно взять в качестве предела с точностью $\\varepsilon=10^{-7}$?"
      ]
    },
    {
      "cell_type": "markdown",
      "metadata": {
        "id": "o-kNRMiK_Cpn"
      },
      "source": [
        "$$|a_n-a_{n+k}|=\\Bigl|\\frac{\\sin1}{2}+\\frac{\\sin2}{2^2}+\\frac{\\sin3}{2^3}+...+\\frac{\\sin n}{2^n} - \\Bigl(\\frac{\\sin1}{2}+\\frac{\\sin2}{2^2}+\\frac{\\sin3}{2^3}+...+\\frac{\\sin n}{2^n}+\\frac{\\sin (n+k)}{2^{n+k}}\\Bigl)\\Bigl|=\\Bigl|\\frac{\\sin (n+1)}{2^{n+1}}+\\frac{\\sin (n+2)}{2^{n+2}}+...+\\frac{\\sin (n+k)}{2^{n+k}}\\Bigl|=\\frac{1}{2^{n+1}}+\\frac{1}{2^{n+2}}+...+\\frac{1}{2^{n+k}}=\\frac{\\frac{1}{2^{n+1}}}{1-\\frac{1}{2}}=$$\n",
        "\n",
        "$$=\\frac{2}{2^{n+1}}<\\frac{1}{2^n}<\\varepsilon$$\n",
        "\n",
        "Так как $|a_n-a_{n+k}|<\\varepsilon$, следовательно по критерию Коши последовательность сходится."
      ]
    },
    {
      "cell_type": "code",
      "metadata": {
        "colab": {
          "base_uri": "https://localhost:8080/"
        },
        "id": "iiaPoeCHjZ1_",
        "outputId": "2f20ddf5-348f-49a9-cd68-ed97cb7abb3a"
      },
      "source": [
        "import math\n",
        "\n",
        "eps = 0.0000001\n",
        "lim = 1\n",
        "n = 2\n",
        "a2 = math.sin(1) / 2 ** 1\n",
        "\n",
        "while lim > eps:\n",
        "    a1 = a2\n",
        "    a2 = a1 + math.sin(n) / 2 ** n\n",
        "    lim = abs(a1 - a2)\n",
        "    n += 1\n",
        "\n",
        "print(f'Численное значение предела: {a2}',\n",
        "      f'\\nПогрешность: {lim}',\n",
        "      f'\\nЧисло шагов: {n - 1}')"
      ],
      "execution_count": null,
      "outputs": [
        {
          "output_type": "stream",
          "text": [
            "Численное значение предела: 0.5928377620958291 \n",
            "Погрешность: 2.110316588144201e-09 \n",
            "Число шагов: 22\n"
          ],
          "name": "stdout"
        }
      ]
    },
    {
      "cell_type": "markdown",
      "metadata": {
        "id": "a2r-dr5MI9UM"
      },
      "source": [
        "### **__5$^*$.__  Пользуясь критерием Коши, докажите расходимость последовательности:**\n",
        "\n",
        "$$b_n=1+\\frac{1}{2}+\\frac{1}{3}+..\\frac{1}{n}\\,\\,\\,\\,\\,\\Rightarrow$$\n",
        "\n",
        "$$\\Bigl\\{b_n\\Bigr\\}_{n=1}^\\infty=\\Bigl\\{1, 1+\\frac{1}{2},1+\\frac{1}{2}+\\frac{1}{3}, ..., b_n,...\\Bigr\\}$$"
      ]
    },
    {
      "cell_type": "markdown",
      "metadata": {
        "id": "Vvwk_y0x_DNH"
      },
      "source": [
        "$$|b_n-b_{n+k}|=\\Bigl|1+\\frac{1}{2}+\\frac{1}{3}+...+\\frac{1}{n} - \\Bigl(1+\\frac{1}{2}+\\frac{1}{3}+...+\\frac{1}{n}+\\frac{1}{n+k}\\Bigl)\\Bigl|=\\frac{1}{n+1}+\\frac{1}{n+2}+...+\\frac{1}{n+k}=$$\n",
        "\n",
        "Предположим, что $k=n$, тогда если возьмем $n$ членов последовательности, то получим следующее:\n",
        "\n",
        "$$=\\frac{1}{n+1}+\\frac{1}{n+2}+...+\\frac{1}{2n}=\\frac{n}{2n}=\\frac{1}{2}$$\n",
        "\n",
        "При этом, если взять $\\varepsilon=\\frac{1}{2}$, то критерий Коши $|b_n-b_{n+k}|<\\varepsilon$ выполняться не будет. Следовательно данная последовательность расходится.\n"
      ]
    }
  ]
}